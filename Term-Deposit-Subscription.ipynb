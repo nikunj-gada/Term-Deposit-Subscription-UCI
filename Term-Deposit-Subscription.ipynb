{
 "cells": [
  {
   "cell_type": "markdown",
   "id": "fa40839d",
   "metadata": {},
   "source": [
    "## <u>Portugal Bank Marketing</u>\n",
    "\n",
    "- Predicting Term Deposit Subscription by a client"
   ]
  },
  {
   "cell_type": "markdown",
   "id": "257b2f0c",
   "metadata": {},
   "source": [
    "<u>Bank client data:</u>\n",
    "\n",
    "        1) age (numeric)\n",
    "        2) job: type of\n",
    "        job(categorical:\"admin.\",\"bluecollar\",\"entrepreneur\",\"housemaid\",\"management\",\"retired\",\"selfemployed\",\"services\",\"student\",\"technician\",\"unemployed\",\"unknown\")\n",
    "        3) marital: marital status (categorical: \"divorced\",\"married\",\"single\",\"unknown\"; note: \"divorced\"\n",
    "        means divorced or widowed)\n",
    "        4) education: education of individual (categorical:\n",
    "        \"basic.4y\",\"basic.6y\",\"basic.9y\",\"high.school\",\"illiterate\",\"professional.course\",\"university.degree\",\"u\n",
    "        nknown\")\n",
    "        5) default: has credit in default? (categorical: \"no\",\"yes\",\"unknown\")\n",
    "        6) housing: has housing loan? (categorical: \"no\",\"yes\",\"unknown\")\n",
    "        7) loan: has personal loan? (categorical: \"no\",\"yes\",\"unknown\")\n",
    "        Related with the last contact of the current campaign:\n",
    "        8) contact: contact communication type (categorical: \"cellular\",\"telephone\")\n",
    "        9) month: last contact month of year (categorical: \"jan\", \"feb\", \"mar\", …, \"nov\", \"dec\")\n",
    "        10) dayofweek: last contact day of the week (categorical: \"mon\",\"tue\",\"wed\",\"thu\",\"fri\")\n",
    "        11) duration: last contact duration, in seconds (numeric). Important note: this attribute highly\n",
    "        affects the output target (e.g., if duration=0 then y=\"no\"). Yet, the duration is not known before a call\n",
    "        is performed. Also, after the end of the call y is obviously known. Thus, this input should only be\n",
    "        included for benchmark purposes and should be discarded if the intention is to have a realistic\n",
    "        predictive model\n",
    "        Other attributes:\n",
    "        12) campaign: number of contacts performed during this campaign and for this client (numeric,\n",
    "        includes last contact)\n",
    "        13) pdays: number of days that passed by after the client was last contacted from a previous\n",
    "        campaign (numeric; 999 means client was not previously contacted)\n",
    "        14) previous: number of contacts performed before this campaign and for this client (numeric)\n",
    "        15) poutcome: outcome of the previous marketing campaign (categorical:\n",
    "        \"failure\",\"nonexistent\",\"success\")\n",
    "        Social and economic context attributes\n",
    "        16) emp.var.rate: employment variation rate - quarterly indicator (numeric)\n",
    "        17) cons.price.idx: consumer price index - monthly indicator (numeric)\n",
    "        18) cons.conf.idx: consumer confidence index - monthly indicator (numeric)\n",
    "        19) concavepoints_se: standard error for number of concave portions of the contour\n",
    "        20) euribor3m: euribor 3 month rate - daily indicator (numeric)\n",
    "        21) nr.employed: number of employees - quarterly indicator (numeric)\n",
    "        Output variable (desired target):\n",
    "        22) y: has the client subscribed a term deposit? (binary: \"yes\",\"no\")"
   ]
  },
  {
   "cell_type": "markdown",
   "id": "6ba93578",
   "metadata": {},
   "source": [
    "<u>Scope:</u>\n",
    "\n",
    "    ● Sentiment analysis in a variety of forms\n",
    "    ● Data Pre-processing\n",
    "    ● Training data using SVM\n",
    "    ● Hyperparameter Tuning "
   ]
  },
  {
   "cell_type": "markdown",
   "id": "61a1cff2",
   "metadata": {},
   "source": [
    "<u>Learning Outcome:</u>\n",
    "    \n",
    "    The students will get a better understanding of how the variables are linked to each other and should be able to predict whether a client of a bank will subscribe to a term deposit or not such that banks can plan the different campaigns for different customers according to the patterns."
   ]
  },
  {
   "cell_type": "markdown",
   "id": "6e079030",
   "metadata": {},
   "source": [
    "https://www.linkedin.com/in/nikunj-gada/"
   ]
  },
  {
   "cell_type": "markdown",
   "id": "9b9c2875",
   "metadata": {},
   "source": [
    "Lets start by importing necessary libraries"
   ]
  },
  {
   "cell_type": "code",
   "execution_count": 1,
   "id": "3f9ea20b",
   "metadata": {},
   "outputs": [],
   "source": [
    "# to load the dataset\n",
    "import pandas as pd\n",
    "# For EDA\n",
    "import matplotlib.pyplot as plt\n",
    "import seaborn as sns\n",
    "# Override pyplot settings by seaborn theme\n",
    "sns.set()\n",
    "# for necessary computation and evaluation\n",
    "import numpy as np\n",
    "# To display maximum columns\n",
    "pd.set_option(\"display.max_columns\",None)\n",
    "import warnings\n",
    "warnings.filterwarnings('ignore')"
   ]
  },
  {
   "cell_type": "markdown",
   "id": "950288ab",
   "metadata": {},
   "source": [
    "Load the dataset into a dataframe"
   ]
  },
  {
   "cell_type": "code",
   "execution_count": 2,
   "id": "56624fc2",
   "metadata": {},
   "outputs": [],
   "source": [
    "df = pd.read_csv(r'bank.csv', header = 0,sep=';')"
   ]
  },
  {
   "cell_type": "markdown",
   "id": "2204e3a5",
   "metadata": {},
   "source": [
    "    #read_csv function :: will load the dataset into a pandas dataframe. \n",
    "    Here we use header = 0 to specify that headers are present in the dataset.\n",
    "    We use the sep parameter for Delimiter to use ';' as our file has ';' separated values"
   ]
  },
  {
   "cell_type": "markdown",
   "id": "8b1932bf",
   "metadata": {},
   "source": [
    "Printing the first 5 and the last 5 elements of the dataframe to check of the data is loaded in the correct format"
   ]
  },
  {
   "cell_type": "code",
   "execution_count": 3,
   "id": "03fd571e",
   "metadata": {},
   "outputs": [
    {
     "data": {
      "text/html": [
       "<div>\n",
       "<style scoped>\n",
       "    .dataframe tbody tr th:only-of-type {\n",
       "        vertical-align: middle;\n",
       "    }\n",
       "\n",
       "    .dataframe tbody tr th {\n",
       "        vertical-align: top;\n",
       "    }\n",
       "\n",
       "    .dataframe thead th {\n",
       "        text-align: right;\n",
       "    }\n",
       "</style>\n",
       "<table border=\"1\" class=\"dataframe\">\n",
       "  <thead>\n",
       "    <tr style=\"text-align: right;\">\n",
       "      <th></th>\n",
       "      <th>age</th>\n",
       "      <th>job</th>\n",
       "      <th>marital</th>\n",
       "      <th>education</th>\n",
       "      <th>default</th>\n",
       "      <th>housing</th>\n",
       "      <th>loan</th>\n",
       "      <th>contact</th>\n",
       "      <th>month</th>\n",
       "      <th>day_of_week</th>\n",
       "      <th>duration</th>\n",
       "      <th>campaign</th>\n",
       "      <th>pdays</th>\n",
       "      <th>previous</th>\n",
       "      <th>poutcome</th>\n",
       "      <th>emp.var.rate</th>\n",
       "      <th>cons.price.idx</th>\n",
       "      <th>cons.conf.idx</th>\n",
       "      <th>euribor3m</th>\n",
       "      <th>nr.employed</th>\n",
       "      <th>y</th>\n",
       "    </tr>\n",
       "  </thead>\n",
       "  <tbody>\n",
       "    <tr>\n",
       "      <th>0</th>\n",
       "      <td>56</td>\n",
       "      <td>housemaid</td>\n",
       "      <td>married</td>\n",
       "      <td>basic.4y</td>\n",
       "      <td>no</td>\n",
       "      <td>no</td>\n",
       "      <td>no</td>\n",
       "      <td>telephone</td>\n",
       "      <td>may</td>\n",
       "      <td>mon</td>\n",
       "      <td>261</td>\n",
       "      <td>1</td>\n",
       "      <td>999</td>\n",
       "      <td>0</td>\n",
       "      <td>nonexistent</td>\n",
       "      <td>1.1</td>\n",
       "      <td>93.994</td>\n",
       "      <td>-36.4</td>\n",
       "      <td>4.857</td>\n",
       "      <td>5191.0</td>\n",
       "      <td>no</td>\n",
       "    </tr>\n",
       "    <tr>\n",
       "      <th>1</th>\n",
       "      <td>57</td>\n",
       "      <td>services</td>\n",
       "      <td>married</td>\n",
       "      <td>high.school</td>\n",
       "      <td>unknown</td>\n",
       "      <td>no</td>\n",
       "      <td>no</td>\n",
       "      <td>telephone</td>\n",
       "      <td>may</td>\n",
       "      <td>mon</td>\n",
       "      <td>149</td>\n",
       "      <td>1</td>\n",
       "      <td>999</td>\n",
       "      <td>0</td>\n",
       "      <td>nonexistent</td>\n",
       "      <td>1.1</td>\n",
       "      <td>93.994</td>\n",
       "      <td>-36.4</td>\n",
       "      <td>4.857</td>\n",
       "      <td>5191.0</td>\n",
       "      <td>no</td>\n",
       "    </tr>\n",
       "    <tr>\n",
       "      <th>2</th>\n",
       "      <td>37</td>\n",
       "      <td>services</td>\n",
       "      <td>married</td>\n",
       "      <td>high.school</td>\n",
       "      <td>no</td>\n",
       "      <td>yes</td>\n",
       "      <td>no</td>\n",
       "      <td>telephone</td>\n",
       "      <td>may</td>\n",
       "      <td>mon</td>\n",
       "      <td>226</td>\n",
       "      <td>1</td>\n",
       "      <td>999</td>\n",
       "      <td>0</td>\n",
       "      <td>nonexistent</td>\n",
       "      <td>1.1</td>\n",
       "      <td>93.994</td>\n",
       "      <td>-36.4</td>\n",
       "      <td>4.857</td>\n",
       "      <td>5191.0</td>\n",
       "      <td>no</td>\n",
       "    </tr>\n",
       "    <tr>\n",
       "      <th>3</th>\n",
       "      <td>40</td>\n",
       "      <td>admin.</td>\n",
       "      <td>married</td>\n",
       "      <td>basic.6y</td>\n",
       "      <td>no</td>\n",
       "      <td>no</td>\n",
       "      <td>no</td>\n",
       "      <td>telephone</td>\n",
       "      <td>may</td>\n",
       "      <td>mon</td>\n",
       "      <td>151</td>\n",
       "      <td>1</td>\n",
       "      <td>999</td>\n",
       "      <td>0</td>\n",
       "      <td>nonexistent</td>\n",
       "      <td>1.1</td>\n",
       "      <td>93.994</td>\n",
       "      <td>-36.4</td>\n",
       "      <td>4.857</td>\n",
       "      <td>5191.0</td>\n",
       "      <td>no</td>\n",
       "    </tr>\n",
       "    <tr>\n",
       "      <th>4</th>\n",
       "      <td>56</td>\n",
       "      <td>services</td>\n",
       "      <td>married</td>\n",
       "      <td>high.school</td>\n",
       "      <td>no</td>\n",
       "      <td>no</td>\n",
       "      <td>yes</td>\n",
       "      <td>telephone</td>\n",
       "      <td>may</td>\n",
       "      <td>mon</td>\n",
       "      <td>307</td>\n",
       "      <td>1</td>\n",
       "      <td>999</td>\n",
       "      <td>0</td>\n",
       "      <td>nonexistent</td>\n",
       "      <td>1.1</td>\n",
       "      <td>93.994</td>\n",
       "      <td>-36.4</td>\n",
       "      <td>4.857</td>\n",
       "      <td>5191.0</td>\n",
       "      <td>no</td>\n",
       "    </tr>\n",
       "  </tbody>\n",
       "</table>\n",
       "</div>"
      ],
      "text/plain": [
       "   age        job  marital    education  default housing loan    contact  \\\n",
       "0   56  housemaid  married     basic.4y       no      no   no  telephone   \n",
       "1   57   services  married  high.school  unknown      no   no  telephone   \n",
       "2   37   services  married  high.school       no     yes   no  telephone   \n",
       "3   40     admin.  married     basic.6y       no      no   no  telephone   \n",
       "4   56   services  married  high.school       no      no  yes  telephone   \n",
       "\n",
       "  month day_of_week  duration  campaign  pdays  previous     poutcome  \\\n",
       "0   may         mon       261         1    999         0  nonexistent   \n",
       "1   may         mon       149         1    999         0  nonexistent   \n",
       "2   may         mon       226         1    999         0  nonexistent   \n",
       "3   may         mon       151         1    999         0  nonexistent   \n",
       "4   may         mon       307         1    999         0  nonexistent   \n",
       "\n",
       "   emp.var.rate  cons.price.idx  cons.conf.idx  euribor3m  nr.employed   y  \n",
       "0           1.1          93.994          -36.4      4.857       5191.0  no  \n",
       "1           1.1          93.994          -36.4      4.857       5191.0  no  \n",
       "2           1.1          93.994          -36.4      4.857       5191.0  no  \n",
       "3           1.1          93.994          -36.4      4.857       5191.0  no  \n",
       "4           1.1          93.994          -36.4      4.857       5191.0  no  "
      ]
     },
     "execution_count": 3,
     "metadata": {},
     "output_type": "execute_result"
    }
   ],
   "source": [
    "df.head()"
   ]
  },
  {
   "cell_type": "code",
   "execution_count": 4,
   "id": "ad13d57f",
   "metadata": {},
   "outputs": [
    {
     "data": {
      "text/html": [
       "<div>\n",
       "<style scoped>\n",
       "    .dataframe tbody tr th:only-of-type {\n",
       "        vertical-align: middle;\n",
       "    }\n",
       "\n",
       "    .dataframe tbody tr th {\n",
       "        vertical-align: top;\n",
       "    }\n",
       "\n",
       "    .dataframe thead th {\n",
       "        text-align: right;\n",
       "    }\n",
       "</style>\n",
       "<table border=\"1\" class=\"dataframe\">\n",
       "  <thead>\n",
       "    <tr style=\"text-align: right;\">\n",
       "      <th></th>\n",
       "      <th>age</th>\n",
       "      <th>job</th>\n",
       "      <th>marital</th>\n",
       "      <th>education</th>\n",
       "      <th>default</th>\n",
       "      <th>housing</th>\n",
       "      <th>loan</th>\n",
       "      <th>contact</th>\n",
       "      <th>month</th>\n",
       "      <th>day_of_week</th>\n",
       "      <th>duration</th>\n",
       "      <th>campaign</th>\n",
       "      <th>pdays</th>\n",
       "      <th>previous</th>\n",
       "      <th>poutcome</th>\n",
       "      <th>emp.var.rate</th>\n",
       "      <th>cons.price.idx</th>\n",
       "      <th>cons.conf.idx</th>\n",
       "      <th>euribor3m</th>\n",
       "      <th>nr.employed</th>\n",
       "      <th>y</th>\n",
       "    </tr>\n",
       "  </thead>\n",
       "  <tbody>\n",
       "    <tr>\n",
       "      <th>41183</th>\n",
       "      <td>73</td>\n",
       "      <td>retired</td>\n",
       "      <td>married</td>\n",
       "      <td>professional.course</td>\n",
       "      <td>no</td>\n",
       "      <td>yes</td>\n",
       "      <td>no</td>\n",
       "      <td>cellular</td>\n",
       "      <td>nov</td>\n",
       "      <td>fri</td>\n",
       "      <td>334</td>\n",
       "      <td>1</td>\n",
       "      <td>999</td>\n",
       "      <td>0</td>\n",
       "      <td>nonexistent</td>\n",
       "      <td>-1.1</td>\n",
       "      <td>94.767</td>\n",
       "      <td>-50.8</td>\n",
       "      <td>1.028</td>\n",
       "      <td>4963.6</td>\n",
       "      <td>yes</td>\n",
       "    </tr>\n",
       "    <tr>\n",
       "      <th>41184</th>\n",
       "      <td>46</td>\n",
       "      <td>blue-collar</td>\n",
       "      <td>married</td>\n",
       "      <td>professional.course</td>\n",
       "      <td>no</td>\n",
       "      <td>no</td>\n",
       "      <td>no</td>\n",
       "      <td>cellular</td>\n",
       "      <td>nov</td>\n",
       "      <td>fri</td>\n",
       "      <td>383</td>\n",
       "      <td>1</td>\n",
       "      <td>999</td>\n",
       "      <td>0</td>\n",
       "      <td>nonexistent</td>\n",
       "      <td>-1.1</td>\n",
       "      <td>94.767</td>\n",
       "      <td>-50.8</td>\n",
       "      <td>1.028</td>\n",
       "      <td>4963.6</td>\n",
       "      <td>no</td>\n",
       "    </tr>\n",
       "    <tr>\n",
       "      <th>41185</th>\n",
       "      <td>56</td>\n",
       "      <td>retired</td>\n",
       "      <td>married</td>\n",
       "      <td>university.degree</td>\n",
       "      <td>no</td>\n",
       "      <td>yes</td>\n",
       "      <td>no</td>\n",
       "      <td>cellular</td>\n",
       "      <td>nov</td>\n",
       "      <td>fri</td>\n",
       "      <td>189</td>\n",
       "      <td>2</td>\n",
       "      <td>999</td>\n",
       "      <td>0</td>\n",
       "      <td>nonexistent</td>\n",
       "      <td>-1.1</td>\n",
       "      <td>94.767</td>\n",
       "      <td>-50.8</td>\n",
       "      <td>1.028</td>\n",
       "      <td>4963.6</td>\n",
       "      <td>no</td>\n",
       "    </tr>\n",
       "    <tr>\n",
       "      <th>41186</th>\n",
       "      <td>44</td>\n",
       "      <td>technician</td>\n",
       "      <td>married</td>\n",
       "      <td>professional.course</td>\n",
       "      <td>no</td>\n",
       "      <td>no</td>\n",
       "      <td>no</td>\n",
       "      <td>cellular</td>\n",
       "      <td>nov</td>\n",
       "      <td>fri</td>\n",
       "      <td>442</td>\n",
       "      <td>1</td>\n",
       "      <td>999</td>\n",
       "      <td>0</td>\n",
       "      <td>nonexistent</td>\n",
       "      <td>-1.1</td>\n",
       "      <td>94.767</td>\n",
       "      <td>-50.8</td>\n",
       "      <td>1.028</td>\n",
       "      <td>4963.6</td>\n",
       "      <td>yes</td>\n",
       "    </tr>\n",
       "    <tr>\n",
       "      <th>41187</th>\n",
       "      <td>74</td>\n",
       "      <td>retired</td>\n",
       "      <td>married</td>\n",
       "      <td>professional.course</td>\n",
       "      <td>no</td>\n",
       "      <td>yes</td>\n",
       "      <td>no</td>\n",
       "      <td>cellular</td>\n",
       "      <td>nov</td>\n",
       "      <td>fri</td>\n",
       "      <td>239</td>\n",
       "      <td>3</td>\n",
       "      <td>999</td>\n",
       "      <td>1</td>\n",
       "      <td>failure</td>\n",
       "      <td>-1.1</td>\n",
       "      <td>94.767</td>\n",
       "      <td>-50.8</td>\n",
       "      <td>1.028</td>\n",
       "      <td>4963.6</td>\n",
       "      <td>no</td>\n",
       "    </tr>\n",
       "  </tbody>\n",
       "</table>\n",
       "</div>"
      ],
      "text/plain": [
       "       age          job  marital            education default housing loan  \\\n",
       "41183   73      retired  married  professional.course      no     yes   no   \n",
       "41184   46  blue-collar  married  professional.course      no      no   no   \n",
       "41185   56      retired  married    university.degree      no     yes   no   \n",
       "41186   44   technician  married  professional.course      no      no   no   \n",
       "41187   74      retired  married  professional.course      no     yes   no   \n",
       "\n",
       "        contact month day_of_week  duration  campaign  pdays  previous  \\\n",
       "41183  cellular   nov         fri       334         1    999         0   \n",
       "41184  cellular   nov         fri       383         1    999         0   \n",
       "41185  cellular   nov         fri       189         2    999         0   \n",
       "41186  cellular   nov         fri       442         1    999         0   \n",
       "41187  cellular   nov         fri       239         3    999         1   \n",
       "\n",
       "          poutcome  emp.var.rate  cons.price.idx  cons.conf.idx  euribor3m  \\\n",
       "41183  nonexistent          -1.1          94.767          -50.8      1.028   \n",
       "41184  nonexistent          -1.1          94.767          -50.8      1.028   \n",
       "41185  nonexistent          -1.1          94.767          -50.8      1.028   \n",
       "41186  nonexistent          -1.1          94.767          -50.8      1.028   \n",
       "41187      failure          -1.1          94.767          -50.8      1.028   \n",
       "\n",
       "       nr.employed    y  \n",
       "41183       4963.6  yes  \n",
       "41184       4963.6   no  \n",
       "41185       4963.6   no  \n",
       "41186       4963.6  yes  \n",
       "41187       4963.6   no  "
      ]
     },
     "execution_count": 4,
     "metadata": {},
     "output_type": "execute_result"
    }
   ],
   "source": [
    "df.tail()"
   ]
  },
  {
   "cell_type": "markdown",
   "id": "91fcac61",
   "metadata": {},
   "source": [
    "We shall now check the datatype of each column using the info fucntion"
   ]
  },
  {
   "cell_type": "code",
   "execution_count": 5,
   "id": "58a0e69a",
   "metadata": {},
   "outputs": [
    {
     "name": "stdout",
     "output_type": "stream",
     "text": [
      "<class 'pandas.core.frame.DataFrame'>\n",
      "RangeIndex: 41188 entries, 0 to 41187\n",
      "Data columns (total 21 columns):\n",
      " #   Column          Non-Null Count  Dtype  \n",
      "---  ------          --------------  -----  \n",
      " 0   age             41188 non-null  int64  \n",
      " 1   job             41188 non-null  object \n",
      " 2   marital         41188 non-null  object \n",
      " 3   education       41188 non-null  object \n",
      " 4   default         41188 non-null  object \n",
      " 5   housing         41188 non-null  object \n",
      " 6   loan            41188 non-null  object \n",
      " 7   contact         41188 non-null  object \n",
      " 8   month           41188 non-null  object \n",
      " 9   day_of_week     41188 non-null  object \n",
      " 10  duration        41188 non-null  int64  \n",
      " 11  campaign        41188 non-null  int64  \n",
      " 12  pdays           41188 non-null  int64  \n",
      " 13  previous        41188 non-null  int64  \n",
      " 14  poutcome        41188 non-null  object \n",
      " 15  emp.var.rate    41188 non-null  float64\n",
      " 16  cons.price.idx  41188 non-null  float64\n",
      " 17  cons.conf.idx   41188 non-null  float64\n",
      " 18  euribor3m       41188 non-null  float64\n",
      " 19  nr.employed     41188 non-null  float64\n",
      " 20  y               41188 non-null  object \n",
      "dtypes: float64(5), int64(5), object(11)\n",
      "memory usage: 6.6+ MB\n"
     ]
    }
   ],
   "source": [
    "df.info()"
   ]
  },
  {
   "cell_type": "markdown",
   "id": "47cc4b91",
   "metadata": {},
   "source": [
    "<u>Numeric columns</u> \n",
    "\n",
    "       :: age,duration,campaign,pdays,previous,emp.var.rate,cons.price.idx,euribor3m,nr.employed\n",
    "\n",
    "<u>Categorical Columns </u>\n",
    "\n",
    "       :: job,marital,education,default,housing,loan,contact,month,day_of_week,poutcome,y(target)"
   ]
  },
  {
   "cell_type": "markdown",
   "id": "84018a51",
   "metadata": {},
   "source": [
    "<u>Insights</u> \n",
    "\n",
    "    1. We check the whether the numeric and categorical columns are obtained as mentioned in the problem statement.\n",
    "    2. Upon checking, we find out the the column :: <u>concavepoints_se</u> is not present while loading the data frame\n",
    "    3. let us confirm on the above point by checking the shape of the dataframe\n",
    "    4. If the shape of the dataframe matches with the cumber o variables provided in the dataset we shall check what is missed while loading our dataframe else we shall conclude that the mentioned variable in the problem statement is absent\n"
   ]
  },
  {
   "cell_type": "code",
   "execution_count": 6,
   "id": "3b11190e",
   "metadata": {},
   "outputs": [
    {
     "name": "stdout",
     "output_type": "stream",
     "text": [
      "Number of rows is 41188 and number of columns are 21\n"
     ]
    }
   ],
   "source": [
    "print(f'Number of rows is {df.shape[0]} and number of columns are {df.shape[1]}')\n",
    "# f - string literal :: allows us to include python computation code in the print statement separated by {} braces"
   ]
  },
  {
   "cell_type": "markdown",
   "id": "9054cb7a",
   "metadata": {},
   "source": [
    "<u>Insights</u> \n",
    "    \n",
    "    1. We see that the shape of the dataframe is 21 columns and hence we conclude that the problem statement has an extra parameter but the dataset given doesnot.\n",
    "    2. In such cases, we can get back to the client to check if the parameter was missed or the problem statement needs correction.\n",
    "    3. Based on the client'sinput we shall go ahead with the analytics.\n",
    "    4. For now we will assume that the problem statement needs correction"
   ]
  },
  {
   "cell_type": "markdown",
   "id": "be6229fb",
   "metadata": {},
   "source": [
    "Let us check the dataframe description"
   ]
  },
  {
   "cell_type": "code",
   "execution_count": 7,
   "id": "3d43834b",
   "metadata": {},
   "outputs": [
    {
     "data": {
      "text/html": [
       "<div>\n",
       "<style scoped>\n",
       "    .dataframe tbody tr th:only-of-type {\n",
       "        vertical-align: middle;\n",
       "    }\n",
       "\n",
       "    .dataframe tbody tr th {\n",
       "        vertical-align: top;\n",
       "    }\n",
       "\n",
       "    .dataframe thead th {\n",
       "        text-align: right;\n",
       "    }\n",
       "</style>\n",
       "<table border=\"1\" class=\"dataframe\">\n",
       "  <thead>\n",
       "    <tr style=\"text-align: right;\">\n",
       "      <th></th>\n",
       "      <th>count</th>\n",
       "      <th>unique</th>\n",
       "      <th>top</th>\n",
       "      <th>freq</th>\n",
       "      <th>mean</th>\n",
       "      <th>std</th>\n",
       "      <th>min</th>\n",
       "      <th>25%</th>\n",
       "      <th>50%</th>\n",
       "      <th>75%</th>\n",
       "      <th>max</th>\n",
       "    </tr>\n",
       "  </thead>\n",
       "  <tbody>\n",
       "    <tr>\n",
       "      <th>age</th>\n",
       "      <td>41188.0</td>\n",
       "      <td>NaN</td>\n",
       "      <td>NaN</td>\n",
       "      <td>NaN</td>\n",
       "      <td>40.02406</td>\n",
       "      <td>10.42125</td>\n",
       "      <td>17.0</td>\n",
       "      <td>32.0</td>\n",
       "      <td>38.0</td>\n",
       "      <td>47.0</td>\n",
       "      <td>98.0</td>\n",
       "    </tr>\n",
       "    <tr>\n",
       "      <th>job</th>\n",
       "      <td>41188</td>\n",
       "      <td>12</td>\n",
       "      <td>admin.</td>\n",
       "      <td>10422</td>\n",
       "      <td>NaN</td>\n",
       "      <td>NaN</td>\n",
       "      <td>NaN</td>\n",
       "      <td>NaN</td>\n",
       "      <td>NaN</td>\n",
       "      <td>NaN</td>\n",
       "      <td>NaN</td>\n",
       "    </tr>\n",
       "    <tr>\n",
       "      <th>marital</th>\n",
       "      <td>41188</td>\n",
       "      <td>4</td>\n",
       "      <td>married</td>\n",
       "      <td>24928</td>\n",
       "      <td>NaN</td>\n",
       "      <td>NaN</td>\n",
       "      <td>NaN</td>\n",
       "      <td>NaN</td>\n",
       "      <td>NaN</td>\n",
       "      <td>NaN</td>\n",
       "      <td>NaN</td>\n",
       "    </tr>\n",
       "    <tr>\n",
       "      <th>education</th>\n",
       "      <td>41188</td>\n",
       "      <td>8</td>\n",
       "      <td>university.degree</td>\n",
       "      <td>12168</td>\n",
       "      <td>NaN</td>\n",
       "      <td>NaN</td>\n",
       "      <td>NaN</td>\n",
       "      <td>NaN</td>\n",
       "      <td>NaN</td>\n",
       "      <td>NaN</td>\n",
       "      <td>NaN</td>\n",
       "    </tr>\n",
       "    <tr>\n",
       "      <th>default</th>\n",
       "      <td>41188</td>\n",
       "      <td>3</td>\n",
       "      <td>no</td>\n",
       "      <td>32588</td>\n",
       "      <td>NaN</td>\n",
       "      <td>NaN</td>\n",
       "      <td>NaN</td>\n",
       "      <td>NaN</td>\n",
       "      <td>NaN</td>\n",
       "      <td>NaN</td>\n",
       "      <td>NaN</td>\n",
       "    </tr>\n",
       "    <tr>\n",
       "      <th>housing</th>\n",
       "      <td>41188</td>\n",
       "      <td>3</td>\n",
       "      <td>yes</td>\n",
       "      <td>21576</td>\n",
       "      <td>NaN</td>\n",
       "      <td>NaN</td>\n",
       "      <td>NaN</td>\n",
       "      <td>NaN</td>\n",
       "      <td>NaN</td>\n",
       "      <td>NaN</td>\n",
       "      <td>NaN</td>\n",
       "    </tr>\n",
       "    <tr>\n",
       "      <th>loan</th>\n",
       "      <td>41188</td>\n",
       "      <td>3</td>\n",
       "      <td>no</td>\n",
       "      <td>33950</td>\n",
       "      <td>NaN</td>\n",
       "      <td>NaN</td>\n",
       "      <td>NaN</td>\n",
       "      <td>NaN</td>\n",
       "      <td>NaN</td>\n",
       "      <td>NaN</td>\n",
       "      <td>NaN</td>\n",
       "    </tr>\n",
       "    <tr>\n",
       "      <th>contact</th>\n",
       "      <td>41188</td>\n",
       "      <td>2</td>\n",
       "      <td>cellular</td>\n",
       "      <td>26144</td>\n",
       "      <td>NaN</td>\n",
       "      <td>NaN</td>\n",
       "      <td>NaN</td>\n",
       "      <td>NaN</td>\n",
       "      <td>NaN</td>\n",
       "      <td>NaN</td>\n",
       "      <td>NaN</td>\n",
       "    </tr>\n",
       "    <tr>\n",
       "      <th>month</th>\n",
       "      <td>41188</td>\n",
       "      <td>10</td>\n",
       "      <td>may</td>\n",
       "      <td>13769</td>\n",
       "      <td>NaN</td>\n",
       "      <td>NaN</td>\n",
       "      <td>NaN</td>\n",
       "      <td>NaN</td>\n",
       "      <td>NaN</td>\n",
       "      <td>NaN</td>\n",
       "      <td>NaN</td>\n",
       "    </tr>\n",
       "    <tr>\n",
       "      <th>day_of_week</th>\n",
       "      <td>41188</td>\n",
       "      <td>5</td>\n",
       "      <td>thu</td>\n",
       "      <td>8623</td>\n",
       "      <td>NaN</td>\n",
       "      <td>NaN</td>\n",
       "      <td>NaN</td>\n",
       "      <td>NaN</td>\n",
       "      <td>NaN</td>\n",
       "      <td>NaN</td>\n",
       "      <td>NaN</td>\n",
       "    </tr>\n",
       "    <tr>\n",
       "      <th>duration</th>\n",
       "      <td>41188.0</td>\n",
       "      <td>NaN</td>\n",
       "      <td>NaN</td>\n",
       "      <td>NaN</td>\n",
       "      <td>258.28501</td>\n",
       "      <td>259.279249</td>\n",
       "      <td>0.0</td>\n",
       "      <td>102.0</td>\n",
       "      <td>180.0</td>\n",
       "      <td>319.0</td>\n",
       "      <td>4918.0</td>\n",
       "    </tr>\n",
       "    <tr>\n",
       "      <th>campaign</th>\n",
       "      <td>41188.0</td>\n",
       "      <td>NaN</td>\n",
       "      <td>NaN</td>\n",
       "      <td>NaN</td>\n",
       "      <td>2.567593</td>\n",
       "      <td>2.770014</td>\n",
       "      <td>1.0</td>\n",
       "      <td>1.0</td>\n",
       "      <td>2.0</td>\n",
       "      <td>3.0</td>\n",
       "      <td>56.0</td>\n",
       "    </tr>\n",
       "    <tr>\n",
       "      <th>pdays</th>\n",
       "      <td>41188.0</td>\n",
       "      <td>NaN</td>\n",
       "      <td>NaN</td>\n",
       "      <td>NaN</td>\n",
       "      <td>962.475454</td>\n",
       "      <td>186.910907</td>\n",
       "      <td>0.0</td>\n",
       "      <td>999.0</td>\n",
       "      <td>999.0</td>\n",
       "      <td>999.0</td>\n",
       "      <td>999.0</td>\n",
       "    </tr>\n",
       "    <tr>\n",
       "      <th>previous</th>\n",
       "      <td>41188.0</td>\n",
       "      <td>NaN</td>\n",
       "      <td>NaN</td>\n",
       "      <td>NaN</td>\n",
       "      <td>0.172963</td>\n",
       "      <td>0.494901</td>\n",
       "      <td>0.0</td>\n",
       "      <td>0.0</td>\n",
       "      <td>0.0</td>\n",
       "      <td>0.0</td>\n",
       "      <td>7.0</td>\n",
       "    </tr>\n",
       "    <tr>\n",
       "      <th>poutcome</th>\n",
       "      <td>41188</td>\n",
       "      <td>3</td>\n",
       "      <td>nonexistent</td>\n",
       "      <td>35563</td>\n",
       "      <td>NaN</td>\n",
       "      <td>NaN</td>\n",
       "      <td>NaN</td>\n",
       "      <td>NaN</td>\n",
       "      <td>NaN</td>\n",
       "      <td>NaN</td>\n",
       "      <td>NaN</td>\n",
       "    </tr>\n",
       "    <tr>\n",
       "      <th>emp.var.rate</th>\n",
       "      <td>41188.0</td>\n",
       "      <td>NaN</td>\n",
       "      <td>NaN</td>\n",
       "      <td>NaN</td>\n",
       "      <td>0.081886</td>\n",
       "      <td>1.57096</td>\n",
       "      <td>-3.4</td>\n",
       "      <td>-1.8</td>\n",
       "      <td>1.1</td>\n",
       "      <td>1.4</td>\n",
       "      <td>1.4</td>\n",
       "    </tr>\n",
       "    <tr>\n",
       "      <th>cons.price.idx</th>\n",
       "      <td>41188.0</td>\n",
       "      <td>NaN</td>\n",
       "      <td>NaN</td>\n",
       "      <td>NaN</td>\n",
       "      <td>93.575664</td>\n",
       "      <td>0.57884</td>\n",
       "      <td>92.201</td>\n",
       "      <td>93.075</td>\n",
       "      <td>93.749</td>\n",
       "      <td>93.994</td>\n",
       "      <td>94.767</td>\n",
       "    </tr>\n",
       "    <tr>\n",
       "      <th>cons.conf.idx</th>\n",
       "      <td>41188.0</td>\n",
       "      <td>NaN</td>\n",
       "      <td>NaN</td>\n",
       "      <td>NaN</td>\n",
       "      <td>-40.5026</td>\n",
       "      <td>4.628198</td>\n",
       "      <td>-50.8</td>\n",
       "      <td>-42.7</td>\n",
       "      <td>-41.8</td>\n",
       "      <td>-36.4</td>\n",
       "      <td>-26.9</td>\n",
       "    </tr>\n",
       "    <tr>\n",
       "      <th>euribor3m</th>\n",
       "      <td>41188.0</td>\n",
       "      <td>NaN</td>\n",
       "      <td>NaN</td>\n",
       "      <td>NaN</td>\n",
       "      <td>3.621291</td>\n",
       "      <td>1.734447</td>\n",
       "      <td>0.634</td>\n",
       "      <td>1.344</td>\n",
       "      <td>4.857</td>\n",
       "      <td>4.961</td>\n",
       "      <td>5.045</td>\n",
       "    </tr>\n",
       "    <tr>\n",
       "      <th>nr.employed</th>\n",
       "      <td>41188.0</td>\n",
       "      <td>NaN</td>\n",
       "      <td>NaN</td>\n",
       "      <td>NaN</td>\n",
       "      <td>5167.035911</td>\n",
       "      <td>72.251528</td>\n",
       "      <td>4963.6</td>\n",
       "      <td>5099.1</td>\n",
       "      <td>5191.0</td>\n",
       "      <td>5228.1</td>\n",
       "      <td>5228.1</td>\n",
       "    </tr>\n",
       "    <tr>\n",
       "      <th>y</th>\n",
       "      <td>41188</td>\n",
       "      <td>2</td>\n",
       "      <td>no</td>\n",
       "      <td>36548</td>\n",
       "      <td>NaN</td>\n",
       "      <td>NaN</td>\n",
       "      <td>NaN</td>\n",
       "      <td>NaN</td>\n",
       "      <td>NaN</td>\n",
       "      <td>NaN</td>\n",
       "      <td>NaN</td>\n",
       "    </tr>\n",
       "  </tbody>\n",
       "</table>\n",
       "</div>"
      ],
      "text/plain": [
       "                  count unique                top   freq         mean  \\\n",
       "age             41188.0    NaN                NaN    NaN     40.02406   \n",
       "job               41188     12             admin.  10422          NaN   \n",
       "marital           41188      4            married  24928          NaN   \n",
       "education         41188      8  university.degree  12168          NaN   \n",
       "default           41188      3                 no  32588          NaN   \n",
       "housing           41188      3                yes  21576          NaN   \n",
       "loan              41188      3                 no  33950          NaN   \n",
       "contact           41188      2           cellular  26144          NaN   \n",
       "month             41188     10                may  13769          NaN   \n",
       "day_of_week       41188      5                thu   8623          NaN   \n",
       "duration        41188.0    NaN                NaN    NaN    258.28501   \n",
       "campaign        41188.0    NaN                NaN    NaN     2.567593   \n",
       "pdays           41188.0    NaN                NaN    NaN   962.475454   \n",
       "previous        41188.0    NaN                NaN    NaN     0.172963   \n",
       "poutcome          41188      3        nonexistent  35563          NaN   \n",
       "emp.var.rate    41188.0    NaN                NaN    NaN     0.081886   \n",
       "cons.price.idx  41188.0    NaN                NaN    NaN    93.575664   \n",
       "cons.conf.idx   41188.0    NaN                NaN    NaN     -40.5026   \n",
       "euribor3m       41188.0    NaN                NaN    NaN     3.621291   \n",
       "nr.employed     41188.0    NaN                NaN    NaN  5167.035911   \n",
       "y                 41188      2                 no  36548          NaN   \n",
       "\n",
       "                       std     min     25%     50%     75%     max  \n",
       "age               10.42125    17.0    32.0    38.0    47.0    98.0  \n",
       "job                    NaN     NaN     NaN     NaN     NaN     NaN  \n",
       "marital                NaN     NaN     NaN     NaN     NaN     NaN  \n",
       "education              NaN     NaN     NaN     NaN     NaN     NaN  \n",
       "default                NaN     NaN     NaN     NaN     NaN     NaN  \n",
       "housing                NaN     NaN     NaN     NaN     NaN     NaN  \n",
       "loan                   NaN     NaN     NaN     NaN     NaN     NaN  \n",
       "contact                NaN     NaN     NaN     NaN     NaN     NaN  \n",
       "month                  NaN     NaN     NaN     NaN     NaN     NaN  \n",
       "day_of_week            NaN     NaN     NaN     NaN     NaN     NaN  \n",
       "duration        259.279249     0.0   102.0   180.0   319.0  4918.0  \n",
       "campaign          2.770014     1.0     1.0     2.0     3.0    56.0  \n",
       "pdays           186.910907     0.0   999.0   999.0   999.0   999.0  \n",
       "previous          0.494901     0.0     0.0     0.0     0.0     7.0  \n",
       "poutcome               NaN     NaN     NaN     NaN     NaN     NaN  \n",
       "emp.var.rate       1.57096    -3.4    -1.8     1.1     1.4     1.4  \n",
       "cons.price.idx     0.57884  92.201  93.075  93.749  93.994  94.767  \n",
       "cons.conf.idx     4.628198   -50.8   -42.7   -41.8   -36.4   -26.9  \n",
       "euribor3m         1.734447   0.634   1.344   4.857   4.961   5.045  \n",
       "nr.employed      72.251528  4963.6  5099.1  5191.0  5228.1  5228.1  \n",
       "y                      NaN     NaN     NaN     NaN     NaN     NaN  "
      ]
     },
     "execution_count": 7,
     "metadata": {},
     "output_type": "execute_result"
    }
   ],
   "source": [
    "df.describe(include='all').T"
   ]
  },
  {
   "cell_type": "code",
   "execution_count": null,
   "id": "1ff6513f",
   "metadata": {},
   "outputs": [],
   "source": []
  },
  {
   "cell_type": "markdown",
   "id": "1da65d0a",
   "metadata": {},
   "source": [
    "Let us check if there are any duplicate data in the datset"
   ]
  },
  {
   "cell_type": "code",
   "execution_count": 8,
   "id": "01649fd9",
   "metadata": {},
   "outputs": [
    {
     "data": {
      "text/plain": [
       "12"
      ]
     },
     "execution_count": 8,
     "metadata": {},
     "output_type": "execute_result"
    }
   ],
   "source": [
    "df.duplicated().sum()"
   ]
  },
  {
   "cell_type": "markdown",
   "id": "17d24e05",
   "metadata": {},
   "source": [
    "<u>Insights</u>\n",
    "\n",
    "    - We see that we have found 12 duplicate values in the dataset. We shall frop these duplicated rows"
   ]
  },
  {
   "cell_type": "code",
   "execution_count": 9,
   "id": "c3dab98a",
   "metadata": {},
   "outputs": [],
   "source": [
    "df.drop_duplicates(inplace = True)"
   ]
  },
  {
   "cell_type": "code",
   "execution_count": 10,
   "id": "5a979db9",
   "metadata": {},
   "outputs": [
    {
     "name": "stdout",
     "output_type": "stream",
     "text": [
      "Number of rows is 41176 and number of columns are 21\n"
     ]
    }
   ],
   "source": [
    "print(f'Number of rows is {df.shape[0]} and number of columns are {df.shape[1]}')"
   ]
  },
  {
   "cell_type": "markdown",
   "id": "d756cf03",
   "metadata": {},
   "source": [
    "<u>Insights</u>\n",
    "    - We see that the duplicated rows are deleted from the dataset"
   ]
  },
  {
   "cell_type": "markdown",
   "id": "3641f683",
   "metadata": {},
   "source": [
    "let us now check for missing values in the dataset"
   ]
  },
  {
   "cell_type": "code",
   "execution_count": 11,
   "id": "c21dd21d",
   "metadata": {},
   "outputs": [
    {
     "data": {
      "text/plain": [
       "age               0\n",
       "job               0\n",
       "marital           0\n",
       "education         0\n",
       "default           0\n",
       "housing           0\n",
       "loan              0\n",
       "contact           0\n",
       "month             0\n",
       "day_of_week       0\n",
       "duration          0\n",
       "campaign          0\n",
       "pdays             0\n",
       "previous          0\n",
       "poutcome          0\n",
       "emp.var.rate      0\n",
       "cons.price.idx    0\n",
       "cons.conf.idx     0\n",
       "euribor3m         0\n",
       "nr.employed       0\n",
       "y                 0\n",
       "dtype: int64"
      ]
     },
     "execution_count": 11,
     "metadata": {},
     "output_type": "execute_result"
    }
   ],
   "source": [
    "df.isnull().sum()"
   ]
  },
  {
   "cell_type": "markdown",
   "id": "3c5f9c2a",
   "metadata": {},
   "source": [
    "<u>Insights</u> \n",
    "\n",
    "    - We see that there are no missing values in the dataset.\n",
    "    - To be sure that there are no unknown values we shall print unique values for each columns to be sure of the data"
   ]
  },
  {
   "cell_type": "code",
   "execution_count": 12,
   "id": "bfd67d3b",
   "metadata": {},
   "outputs": [],
   "source": [
    "def print_unique_values(df):\n",
    "    for colname in df.columns:\n",
    "        print(f'--------- {colname} -----------')\n",
    "        print(df[colname].unique(),'\\nCount ::', df[colname].nunique(),'\\n')"
   ]
  },
  {
   "cell_type": "markdown",
   "id": "7f521e01",
   "metadata": {},
   "source": [
    "The above function shall print all the unique values in each columns"
   ]
  },
  {
   "cell_type": "code",
   "execution_count": 13,
   "id": "4eeb109c",
   "metadata": {
    "scrolled": false
   },
   "outputs": [
    {
     "name": "stdout",
     "output_type": "stream",
     "text": [
      "--------- age -----------\n",
      "[56 57 37 40 45 59 41 24 25 29 35 54 46 50 39 30 55 49 34 52 58 32 38 44\n",
      " 42 60 53 47 51 48 33 31 43 36 28 27 26 22 23 20 21 61 19 18 70 66 76 67\n",
      " 73 88 95 77 68 75 63 80 62 65 72 82 64 71 69 78 85 79 83 81 74 17 87 91\n",
      " 86 98 94 84 92 89] \n",
      "Count :: 78 \n",
      "\n",
      "--------- job -----------\n",
      "['housemaid' 'services' 'admin.' 'blue-collar' 'technician' 'retired'\n",
      " 'management' 'unemployed' 'self-employed' 'unknown' 'entrepreneur'\n",
      " 'student'] \n",
      "Count :: 12 \n",
      "\n",
      "--------- marital -----------\n",
      "['married' 'single' 'divorced' 'unknown'] \n",
      "Count :: 4 \n",
      "\n",
      "--------- education -----------\n",
      "['basic.4y' 'high.school' 'basic.6y' 'basic.9y' 'professional.course'\n",
      " 'unknown' 'university.degree' 'illiterate'] \n",
      "Count :: 8 \n",
      "\n",
      "--------- default -----------\n",
      "['no' 'unknown' 'yes'] \n",
      "Count :: 3 \n",
      "\n",
      "--------- housing -----------\n",
      "['no' 'yes' 'unknown'] \n",
      "Count :: 3 \n",
      "\n",
      "--------- loan -----------\n",
      "['no' 'yes' 'unknown'] \n",
      "Count :: 3 \n",
      "\n",
      "--------- contact -----------\n",
      "['telephone' 'cellular'] \n",
      "Count :: 2 \n",
      "\n",
      "--------- month -----------\n",
      "['may' 'jun' 'jul' 'aug' 'oct' 'nov' 'dec' 'mar' 'apr' 'sep'] \n",
      "Count :: 10 \n",
      "\n",
      "--------- day_of_week -----------\n",
      "['mon' 'tue' 'wed' 'thu' 'fri'] \n",
      "Count :: 5 \n",
      "\n",
      "--------- duration -----------\n",
      "[ 261  149  226 ... 1246 1556 1868] \n",
      "Count :: 1544 \n",
      "\n",
      "--------- campaign -----------\n",
      "[ 1  2  3  4  5  6  7  8  9 10 11 12 13 19 18 23 14 22 25 16 17 15 20 56\n",
      " 39 35 42 28 26 27 32 21 24 29 31 30 41 37 40 33 34 43] \n",
      "Count :: 42 \n",
      "\n",
      "--------- pdays -----------\n",
      "[999   6   4   3   5   1   0  10   7   8   9  11   2  12  13  14  15  16\n",
      "  21  17  18  22  25  26  19  27  20] \n",
      "Count :: 27 \n",
      "\n",
      "--------- previous -----------\n",
      "[0 1 2 3 4 5 6 7] \n",
      "Count :: 8 \n",
      "\n",
      "--------- poutcome -----------\n",
      "['nonexistent' 'failure' 'success'] \n",
      "Count :: 3 \n",
      "\n",
      "--------- emp.var.rate -----------\n",
      "[ 1.1  1.4 -0.1 -0.2 -1.8 -2.9 -3.4 -3.  -1.7 -1.1] \n",
      "Count :: 10 \n",
      "\n",
      "--------- cons.price.idx -----------\n",
      "[93.994 94.465 93.918 93.444 93.798 93.2   92.756 92.843 93.075 92.893\n",
      " 92.963 92.469 92.201 92.379 92.431 92.649 92.713 93.369 93.749 93.876\n",
      " 94.055 94.215 94.027 94.199 94.601 94.767] \n",
      "Count :: 26 \n",
      "\n",
      "--------- cons.conf.idx -----------\n",
      "[-36.4 -41.8 -42.7 -36.1 -40.4 -42.  -45.9 -50.  -47.1 -46.2 -40.8 -33.6\n",
      " -31.4 -29.8 -26.9 -30.1 -33.  -34.8 -34.6 -40.  -39.8 -40.3 -38.3 -37.5\n",
      " -49.5 -50.8] \n",
      "Count :: 26 \n",
      "\n",
      "--------- euribor3m -----------\n",
      "[4.857 4.856 4.855 4.859 4.86  4.858 4.864 4.865 4.866 4.967 4.961 4.959\n",
      " 4.958 4.96  4.962 4.955 4.947 4.956 4.966 4.963 4.957 4.968 4.97  4.965\n",
      " 4.964 5.045 5.    4.936 4.921 4.918 4.912 4.827 4.794 4.76  4.733 4.7\n",
      " 4.663 4.592 4.474 4.406 4.343 4.286 4.245 4.223 4.191 4.153 4.12  4.076\n",
      " 4.021 3.901 3.879 3.853 3.816 3.743 3.669 3.563 3.488 3.428 3.329 3.282\n",
      " 3.053 1.811 1.799 1.778 1.757 1.726 1.703 1.687 1.663 1.65  1.64  1.629\n",
      " 1.614 1.602 1.584 1.574 1.56  1.556 1.548 1.538 1.531 1.52  1.51  1.498\n",
      " 1.483 1.479 1.466 1.453 1.445 1.435 1.423 1.415 1.41  1.405 1.406 1.4\n",
      " 1.392 1.384 1.372 1.365 1.354 1.344 1.334 1.327 1.313 1.299 1.291 1.281\n",
      " 1.266 1.25  1.244 1.259 1.264 1.27  1.262 1.26  1.268 1.286 1.252 1.235\n",
      " 1.224 1.215 1.206 1.099 1.085 1.072 1.059 1.048 1.044 1.029 1.018 1.007\n",
      " 0.996 0.979 0.969 0.944 0.937 0.933 0.927 0.921 0.914 0.908 0.903 0.899\n",
      " 0.884 0.883 0.881 0.879 0.873 0.869 0.861 0.859 0.854 0.851 0.849 0.843\n",
      " 0.838 0.834 0.829 0.825 0.821 0.819 0.813 0.809 0.803 0.797 0.788 0.781\n",
      " 0.778 0.773 0.771 0.77  0.768 0.766 0.762 0.755 0.749 0.743 0.741 0.739\n",
      " 0.75  0.753 0.754 0.752 0.744 0.74  0.742 0.737 0.735 0.733 0.73  0.731\n",
      " 0.728 0.724 0.722 0.72  0.719 0.716 0.715 0.714 0.718 0.721 0.717 0.712\n",
      " 0.71  0.709 0.708 0.706 0.707 0.7   0.655 0.654 0.653 0.652 0.651 0.65\n",
      " 0.649 0.646 0.644 0.643 0.639 0.637 0.635 0.636 0.634 0.638 0.64  0.642\n",
      " 0.645 0.659 0.663 0.668 0.672 0.677 0.682 0.683 0.684 0.685 0.688 0.69\n",
      " 0.692 0.695 0.697 0.699 0.701 0.702 0.704 0.711 0.713 0.723 0.727 0.729\n",
      " 0.732 0.748 0.761 0.767 0.782 0.79  0.793 0.802 0.81  0.822 0.827 0.835\n",
      " 0.84  0.846 0.87  0.876 0.885 0.889 0.893 0.896 0.898 0.9   0.904 0.905\n",
      " 0.895 0.894 0.891 0.89  0.888 0.886 0.882 0.88  0.878 0.877 0.942 0.953\n",
      " 0.956 0.959 0.965 0.972 0.977 0.982 0.985 0.987 0.993 1.    1.008 1.016\n",
      " 1.025 1.032 1.037 1.043 1.045 1.047 1.05  1.049 1.046 1.041 1.04  1.039\n",
      " 1.035 1.03  1.031 1.028] \n",
      "Count :: 316 \n",
      "\n",
      "--------- nr.employed -----------\n",
      "[5191.  5228.1 5195.8 5176.3 5099.1 5076.2 5017.5 5023.5 5008.7 4991.6\n",
      " 4963.6] \n",
      "Count :: 11 \n",
      "\n",
      "--------- y -----------\n",
      "['no' 'yes'] \n",
      "Count :: 2 \n",
      "\n"
     ]
    }
   ],
   "source": [
    "print_unique_values(df)"
   ]
  },
  {
   "cell_type": "markdown",
   "id": "b003852b",
   "metadata": {},
   "source": [
    "<u>Insights</u>\n",
    "\n",
    "    - We see that we do not have any special characters in the unique values\n",
    "    - we can conclude there are no missing values in the dataset"
   ]
  },
  {
   "cell_type": "markdown",
   "id": "3e9e1f59",
   "metadata": {},
   "source": [
    "Let us perform some EDA on the categorical variables"
   ]
  },
  {
   "cell_type": "markdown",
   "id": "53d34232",
   "metadata": {},
   "source": [
    "We shall plot the value counts for all the categorical variable and check how the data is spread"
   ]
  },
  {
   "cell_type": "code",
   "execution_count": 14,
   "id": "f462a4f3",
   "metadata": {},
   "outputs": [],
   "source": [
    "# Below block of code shall separate cat and numeric variables for EDA\n",
    "category_features = []\n",
    "numeric_feature = []\n",
    "for col in df.columns:\n",
    "    if df[col].dtype == 'object':\n",
    "        category_features.append(col)\n",
    "    else :\n",
    "        numeric_feature.append(col)"
   ]
  },
  {
   "cell_type": "code",
   "execution_count": 15,
   "id": "df21fa61",
   "metadata": {
    "scrolled": false
   },
   "outputs": [
    {
     "data": {
      "image/png": "[encoded data removed]",
      "text/plain": [
       "<Figure size 1080x360 with 1 Axes>"
      ]
     },
     "metadata": {},
     "output_type": "display_data"
    },
    {
     "data": {
      "image/png": "[encoded data removed]",
      "text/plain": [
       "<Figure size 1080x360 with 1 Axes>"
      ]
     },
     "metadata": {},
     "output_type": "display_data"
    },
    {
     "data": {
      "image/png": "[encoded data removed]",
      "text/plain": [
       "<Figure size 1080x360 with 1 Axes>"
      ]
     },
     "metadata": {},
     "output_type": "display_data"
    },
    {
     "data": {
      "image/png": "[encoded data removed]",
      "text/plain": [
       "<Figure size 1080x360 with 1 Axes>"
      ]
     },
     "metadata": {},
     "output_type": "display_data"
    },
    {
     "data": {
      "image/png": "[encoded data removed]",
      "text/plain": [
       "<Figure size 1080x360 with 1 Axes>"
      ]
     },
     "metadata": {},
     "output_type": "display_data"
    },
    {
     "data": {
      "image/png": "[encoded data removed]",
      "text/plain": [
       "<Figure size 1080x360 with 1 Axes>"
      ]
     },
     "metadata": {},
     "output_type": "display_data"
    },
    {
     "data": {
      "image/png": "[encoded data removed]",
      "text/plain": [
       "<Figure size 1080x360 with 1 Axes>"
      ]
     },
     "metadata": {},
     "output_type": "display_data"
    },
    {
     "data": {
      "image/png": "[encoded data removed]",
      "text/plain": [
       "<Figure size 1080x360 with 1 Axes>"
      ]
     },
     "metadata": {},
     "output_type": "display_data"
    },
    {
     "data": {
      "image/png": "[encoded data removed]",
      "text/plain": [
       "<Figure size 1080x360 with 1 Axes>"
      ]
     },
     "metadata": {},
     "output_type": "display_data"
    },
    {
     "data": {
      "image/png": "[encoded data removed]",
      "text/plain": [
       "<Figure size 1080x360 with 1 Axes>"
      ]
     },
     "metadata": {},
     "output_type": "display_data"
    },
    {
     "data": {
      "image/png": "[encoded data removed]",
      "text/plain": [
       "<Figure size 1080x360 with 1 Axes>"
      ]
     },
     "metadata": {},
     "output_type": "display_data"
    }
   ],
   "source": [
    "# looping through all variables to get their counts\n",
    "for col in category_features:\n",
    "    plt.figure(figsize=(15,5))    \n",
    "    sns.barplot(df[col].value_counts(), df[col].value_counts().index, data=df)    \n",
    "    plt.title(col)"
   ]
  },
  {
   "cell_type": "code",
   "execution_count": 16,
   "id": "05b43cfc",
   "metadata": {
    "scrolled": true
   },
   "outputs": [
    {
     "name": "stdout",
     "output_type": "stream",
     "text": [
      "\n",
      "--------- job -----------\n",
      "job            y  \n",
      "admin.         no     0.870333\n",
      "               yes    0.129667\n",
      "blue-collar    no     0.931049\n",
      "               yes    0.068951\n",
      "entrepreneur   no     0.914835\n",
      "               yes    0.085165\n",
      "housemaid      no     0.900000\n",
      "               yes    0.100000\n",
      "management     no     0.887825\n",
      "               yes    0.112175\n",
      "retired        no     0.747381\n",
      "               yes    0.252619\n",
      "self-employed  no     0.895144\n",
      "               yes    0.104856\n",
      "services       no     0.918578\n",
      "               yes    0.081422\n",
      "student        no     0.685714\n",
      "               yes    0.314286\n",
      "technician     no     0.891675\n",
      "               yes    0.108325\n",
      "unemployed     no     0.857988\n",
      "               yes    0.142012\n",
      "unknown        no     0.887879\n",
      "               yes    0.112121\n",
      "Name: y, dtype: float64\n",
      "\n",
      "--------- marital -----------\n",
      "marital   y  \n",
      "divorced  no     0.896769\n",
      "          yes    0.103231\n",
      "married   no     0.898439\n",
      "          yes    0.101561\n",
      "single    no     0.859910\n",
      "          yes    0.140090\n",
      "unknown   no     0.850000\n",
      "          yes    0.150000\n",
      "Name: y, dtype: float64\n",
      "\n",
      "--------- education -----------\n",
      "education            y  \n",
      "basic.4y             no     0.897510\n",
      "                     yes    0.102490\n",
      "basic.6y             no     0.917940\n",
      "                     yes    0.082060\n",
      "basic.9y             no     0.921754\n",
      "                     yes    0.078246\n",
      "high.school          no     0.891611\n",
      "                     yes    0.108389\n",
      "illiterate           no     0.777778\n",
      "                     yes    0.222222\n",
      "professional.course  no     0.886450\n",
      "                     yes    0.113550\n",
      "university.degree    no     0.862792\n",
      "                     yes    0.137208\n",
      "unknown              no     0.854913\n",
      "                     yes    0.145087\n",
      "Name: y, dtype: float64\n",
      "\n",
      "--------- default -----------\n",
      "default  y  \n",
      "no       no     0.871197\n",
      "         yes    0.128803\n",
      "unknown  no     0.948464\n",
      "         yes    0.051536\n",
      "yes      no     1.000000\n",
      "Name: y, dtype: float64\n",
      "\n",
      "--------- housing -----------\n",
      "housing  y  \n",
      "no       no     0.891217\n",
      "         yes    0.108783\n",
      "unknown  no     0.891919\n",
      "         yes    0.108081\n",
      "yes      no     0.883779\n",
      "         yes    0.116221\n",
      "Name: y, dtype: float64\n",
      "\n",
      "--------- loan -----------\n",
      "loan     y  \n",
      "no       no     0.886587\n",
      "         yes    0.113413\n",
      "unknown  no     0.891919\n",
      "         yes    0.108081\n",
      "yes      no     0.890685\n",
      "         yes    0.109315\n",
      "Name: y, dtype: float64\n",
      "\n",
      "--------- contact -----------\n",
      "contact    y  \n",
      "cellular   no     0.852611\n",
      "           yes    0.147389\n",
      "telephone  no     0.947676\n",
      "           yes    0.052324\n",
      "Name: y, dtype: float64\n",
      "\n",
      "--------- month -----------\n",
      "month  y  \n",
      "apr    no     0.795135\n",
      "       yes    0.204865\n",
      "aug    no     0.893944\n",
      "       yes    0.106056\n",
      "dec    no     0.510989\n",
      "       yes    0.489011\n",
      "jul    no     0.909611\n",
      "       yes    0.090389\n",
      "jun    no     0.894885\n",
      "       yes    0.105115\n",
      "mar    yes    0.505495\n",
      "       no     0.494505\n",
      "may    no     0.935643\n",
      "       yes    0.064357\n",
      "nov    no     0.898537\n",
      "       yes    0.101463\n",
      "oct    no     0.560669\n",
      "       yes    0.439331\n",
      "sep    no     0.550877\n",
      "       yes    0.449123\n",
      "Name: y, dtype: float64\n",
      "\n",
      "--------- day_of_week -----------\n",
      "day_of_week  y  \n",
      "fri          no     0.891899\n",
      "             yes    0.108101\n",
      "mon          no     0.900493\n",
      "             yes    0.099507\n",
      "thu          no     0.878858\n",
      "             yes    0.121142\n",
      "tue          no     0.882142\n",
      "             yes    0.117858\n",
      "wed          no     0.883329\n",
      "             yes    0.116671\n",
      "Name: y, dtype: float64\n",
      "\n",
      "--------- poutcome -----------\n",
      "poutcome     y  \n",
      "failure      no     0.857714\n",
      "             yes    0.142286\n",
      "nonexistent  no     0.911676\n",
      "             yes    0.088324\n",
      "success      yes    0.651129\n",
      "             no     0.348871\n",
      "Name: y, dtype: float64\n"
     ]
    }
   ],
   "source": [
    "for col in category_features[0:-1]:\n",
    "    print(f'\\n--------- {col} -----------') \n",
    "    print(df.groupby(col)['y'].value_counts(normalize=True))"
   ]
  },
  {
   "cell_type": "markdown",
   "id": "b395e2b6",
   "metadata": {},
   "source": [
    "The above set of code gives us how our categorical variables are % grouped on the basis of whether they have agreed to apply for tem deposit or no"
   ]
  },
  {
   "cell_type": "markdown",
   "id": "e71f54bc",
   "metadata": {},
   "source": [
    "The same is visualized in the below graphs"
   ]
  },
  {
   "cell_type": "code",
   "execution_count": 17,
   "id": "481b9017",
   "metadata": {
    "scrolled": false
   },
   "outputs": [
    {
     "data": {
      "image/png": "[encoded data removed]",
      "text/plain": [
       "<Figure size 1080x360 with 1 Axes>"
      ]
     },
     "metadata": {},
     "output_type": "display_data"
    },
    {
     "data": {
      "image/png": "[encoded data removed]",
      "text/plain": [
       "<Figure size 1080x360 with 1 Axes>"
      ]
     },
     "metadata": {},
     "output_type": "display_data"
    },
    {
     "data": {
      "image/png": "[encoded data removed]",
      "text/plain": [
       "<Figure size 1080x360 with 1 Axes>"
      ]
     },
     "metadata": {},
     "output_type": "display_data"
    },
    {
     "data": {
      "image/png": "[encoded data removed]",
      "text/plain": [
       "<Figure size 1080x360 with 1 Axes>"
      ]
     },
     "metadata": {},
     "output_type": "display_data"
    },
    {
     "data": {
      "image/png": "[encoded data removed]",
      "text/plain": [
       "<Figure size 1080x360 with 1 Axes>"
      ]
     },
     "metadata": {},
     "output_type": "display_data"
    },
    {
     "data": {
      "image/png": "[encoded data removed]",
      "text/plain": [
       "<Figure size 1080x360 with 1 Axes>"
      ]
     },
     "metadata": {},
     "output_type": "display_data"
    },
    {
     "data": {
      "image/png": "[encoded data removed]",
      "text/plain": [
       "<Figure size 1080x360 with 1 Axes>"
      ]
     },
     "metadata": {},
     "output_type": "display_data"
    },
    {
     "data": {
      "image/png": "[encoded data removed]",
      "text/plain": [
       "<Figure size 1080x360 with 1 Axes>"
      ]
     },
     "metadata": {},
     "output_type": "display_data"
    },
    {
     "data": {
      "image/png": "[encoded data removed]",
      "text/plain": [
       "<Figure size 1080x360 with 1 Axes>"
      ]
     },
     "metadata": {},
     "output_type": "display_data"
    },
    {
     "data": {
      "image/png": "[encoded data removed]",
      "text/plain": [
       "<Figure size 1080x360 with 1 Axes>"
      ]
     },
     "metadata": {},
     "output_type": "display_data"
    }
   ],
   "source": [
    "# looping through all columns except the target col\n",
    "for col in category_features[0:-1]:\n",
    "    #plot size\n",
    "    plt.figure(figsize=(15,5))\n",
    "    #seaborn countplot to indicate in each ID feature how many have said yes and No\n",
    "    sns.countplot(data = df, x = col ,hue = df.columns[-1])"
   ]
  },
  {
   "cell_type": "markdown",
   "id": "1ddea661",
   "metadata": {},
   "source": [
    "    With above we now come up with our first question \n",
    "\n",
    "    What does the primary analysis of several categorical features reveal?"
   ]
  },
  {
   "cell_type": "markdown",
   "id": "4b317861",
   "metadata": {},
   "source": [
    "<u>Our observations</u>\n",
    "\n",
    "    Job :: The clients are mostly administrators, blue-collars and technicians.\n",
    "    \n",
    "    Marital status :: The clients are mostly married.\n",
    "    \n",
    "    Education :: The maximun number of clients have university degree followed by high school degree. The campaign targets more on educated people having to join their term deposit\n",
    "       \n",
    "    housing :: Most of the client have no house loan on them\n",
    "    \n",
    "    loan :: Most of the clients have no loan on them\n",
    "    \n",
    "    contact :: Most calls are on personal cellphones\n",
    "    \n",
    "    month :: May is the busy month and December is the least busy month due to the holidays season).\n",
    "    \n",
    "    day of week :: Monday's and Thursday's are most busy, Friday being the least due to weekend\n",
    "    \n",
    "    poutcome :: They do not have most of the clients data for previous campaign, whether they had agreed or not. One assumption is that the clients were called the first time in this campaign drive\n",
    "    \n",
    "    y :: Most of the client in this campaign havnt subscribed to the term deposit. The value for No is high than yes, leading to unbalance in data for our target variable\n",
    "    \n",
    "    Condidering the columns job, education and maritial status approx 80% of the times the outcome variable is a 'No'\n",
    "    \n",
    "    Duplicate values were dropped\n",
    "    \n",
    "    Along with this we also noticed that the problem statement had a mismatch in the number of columns."
   ]
  },
  {
   "cell_type": "markdown",
   "id": "0c46adb8",
   "metadata": {},
   "source": [
    "Plotting box plots for numeric values"
   ]
  },
  {
   "cell_type": "code",
   "execution_count": 18,
   "id": "a0b72f6c",
   "metadata": {
    "scrolled": false
   },
   "outputs": [
    {
     "data": {
      "image/png": "[encoded data removed]",
      "text/plain": [
       "<Figure size 720x720 with 1 Axes>"
      ]
     },
     "metadata": {},
     "output_type": "display_data"
    },
    {
     "data": {
      "image/png": "[encoded data removed]",
      "text/plain": [
       "<Figure size 720x720 with 1 Axes>"
      ]
     },
     "metadata": {},
     "output_type": "display_data"
    },
    {
     "data": {
      "image/png": "[encoded data removed]",
      "text/plain": [
       "<Figure size 720x720 with 1 Axes>"
      ]
     },
     "metadata": {},
     "output_type": "display_data"
    },
    {
     "data": {
      "image/png": "[encoded data removed]",
      "text/plain": [
       "<Figure size 720x720 with 1 Axes>"
      ]
     },
     "metadata": {},
     "output_type": "display_data"
    },
    {
     "data": {
      "image/png": "[encoded data removed]",
      "text/plain": [
       "<Figure size 720x720 with 1 Axes>"
      ]
     },
     "metadata": {},
     "output_type": "display_data"
    },
    {
     "data": {
      "image/png": "[encoded data removed]",
      "text/plain": [
       "<Figure size 720x720 with 1 Axes>"
      ]
     },
     "metadata": {},
     "output_type": "display_data"
    },
    {
     "data": {
      "image/png": "[encoded data removed]",
      "text/plain": [
       "<Figure size 720x720 with 1 Axes>"
      ]
     },
     "metadata": {},
     "output_type": "display_data"
    },
    {
     "data": {
      "image/png": "[encoded data removed]",
      "text/plain": [
       "<Figure size 720x720 with 1 Axes>"
      ]
     },
     "metadata": {},
     "output_type": "display_data"
    },
    {
     "data": {
      "image/png": "[encoded data removed]",
      "text/plain": [
       "<Figure size 720x720 with 1 Axes>"
      ]
     },
     "metadata": {},
     "output_type": "display_data"
    },
    {
     "data": {
      "image/png": "[encoded data removed]",
      "text/plain": [
       "<Figure size 720x720 with 1 Axes>"
      ]
     },
     "metadata": {},
     "output_type": "display_data"
    }
   ],
   "source": [
    "# looping through all columns except the target col\n",
    "for col in numeric_feature:\n",
    "    #plot size\n",
    "    plt.figure(figsize=(10,10))\n",
    "    sns.boxplot(df['y'],df[col])"
   ]
  },
  {
   "cell_type": "markdown",
   "id": "898213ac",
   "metadata": {},
   "source": [
    "<u>Observations</u>\n",
    "\n",
    "    age :: Maximum values are present b/w 17 to 70 and less observation for above 70 leading to outliers\n",
    "    previous :: very few people from the previous campain were called or less observations present\n",
    "            "
   ]
  },
  {
   "cell_type": "code",
   "execution_count": 19,
   "id": "458aefd7",
   "metadata": {},
   "outputs": [],
   "source": [
    "# creating a copy of the dataset\n",
    "df_new = df"
   ]
  },
  {
   "cell_type": "markdown",
   "id": "1e797c69",
   "metadata": {},
   "source": [
    "<u>Using Label Encoder to encode the data</u>"
   ]
  },
  {
   "cell_type": "code",
   "execution_count": 20,
   "id": "75c8cccd",
   "metadata": {},
   "outputs": [],
   "source": [
    "# For preprocessing the data\n",
    "from sklearn.preprocessing import LabelEncoder\n",
    "# object creation\n",
    "encoder_label = LabelEncoder()\n",
    "#looping through all categories and encoding \n",
    "for col in category_features:\n",
    "        df[col] = encoder_label.fit_transform(df[col])"
   ]
  },
  {
   "cell_type": "code",
   "execution_count": 21,
   "id": "be299942",
   "metadata": {},
   "outputs": [
    {
     "data": {
      "text/html": [
       "<div>\n",
       "<style scoped>\n",
       "    .dataframe tbody tr th:only-of-type {\n",
       "        vertical-align: middle;\n",
       "    }\n",
       "\n",
       "    .dataframe tbody tr th {\n",
       "        vertical-align: top;\n",
       "    }\n",
       "\n",
       "    .dataframe thead th {\n",
       "        text-align: right;\n",
       "    }\n",
       "</style>\n",
       "<table border=\"1\" class=\"dataframe\">\n",
       "  <thead>\n",
       "    <tr style=\"text-align: right;\">\n",
       "      <th></th>\n",
       "      <th>age</th>\n",
       "      <th>job</th>\n",
       "      <th>marital</th>\n",
       "      <th>education</th>\n",
       "      <th>default</th>\n",
       "      <th>housing</th>\n",
       "      <th>loan</th>\n",
       "      <th>contact</th>\n",
       "      <th>month</th>\n",
       "      <th>day_of_week</th>\n",
       "      <th>duration</th>\n",
       "      <th>campaign</th>\n",
       "      <th>pdays</th>\n",
       "      <th>previous</th>\n",
       "      <th>poutcome</th>\n",
       "      <th>emp.var.rate</th>\n",
       "      <th>cons.price.idx</th>\n",
       "      <th>cons.conf.idx</th>\n",
       "      <th>euribor3m</th>\n",
       "      <th>nr.employed</th>\n",
       "      <th>y</th>\n",
       "    </tr>\n",
       "  </thead>\n",
       "  <tbody>\n",
       "    <tr>\n",
       "      <th>0</th>\n",
       "      <td>56</td>\n",
       "      <td>3</td>\n",
       "      <td>1</td>\n",
       "      <td>0</td>\n",
       "      <td>0</td>\n",
       "      <td>0</td>\n",
       "      <td>0</td>\n",
       "      <td>1</td>\n",
       "      <td>6</td>\n",
       "      <td>1</td>\n",
       "      <td>261</td>\n",
       "      <td>1</td>\n",
       "      <td>999</td>\n",
       "      <td>0</td>\n",
       "      <td>1</td>\n",
       "      <td>1.1</td>\n",
       "      <td>93.994</td>\n",
       "      <td>-36.4</td>\n",
       "      <td>4.857</td>\n",
       "      <td>5191.0</td>\n",
       "      <td>0</td>\n",
       "    </tr>\n",
       "    <tr>\n",
       "      <th>1</th>\n",
       "      <td>57</td>\n",
       "      <td>7</td>\n",
       "      <td>1</td>\n",
       "      <td>3</td>\n",
       "      <td>1</td>\n",
       "      <td>0</td>\n",
       "      <td>0</td>\n",
       "      <td>1</td>\n",
       "      <td>6</td>\n",
       "      <td>1</td>\n",
       "      <td>149</td>\n",
       "      <td>1</td>\n",
       "      <td>999</td>\n",
       "      <td>0</td>\n",
       "      <td>1</td>\n",
       "      <td>1.1</td>\n",
       "      <td>93.994</td>\n",
       "      <td>-36.4</td>\n",
       "      <td>4.857</td>\n",
       "      <td>5191.0</td>\n",
       "      <td>0</td>\n",
       "    </tr>\n",
       "    <tr>\n",
       "      <th>2</th>\n",
       "      <td>37</td>\n",
       "      <td>7</td>\n",
       "      <td>1</td>\n",
       "      <td>3</td>\n",
       "      <td>0</td>\n",
       "      <td>2</td>\n",
       "      <td>0</td>\n",
       "      <td>1</td>\n",
       "      <td>6</td>\n",
       "      <td>1</td>\n",
       "      <td>226</td>\n",
       "      <td>1</td>\n",
       "      <td>999</td>\n",
       "      <td>0</td>\n",
       "      <td>1</td>\n",
       "      <td>1.1</td>\n",
       "      <td>93.994</td>\n",
       "      <td>-36.4</td>\n",
       "      <td>4.857</td>\n",
       "      <td>5191.0</td>\n",
       "      <td>0</td>\n",
       "    </tr>\n",
       "    <tr>\n",
       "      <th>3</th>\n",
       "      <td>40</td>\n",
       "      <td>0</td>\n",
       "      <td>1</td>\n",
       "      <td>1</td>\n",
       "      <td>0</td>\n",
       "      <td>0</td>\n",
       "      <td>0</td>\n",
       "      <td>1</td>\n",
       "      <td>6</td>\n",
       "      <td>1</td>\n",
       "      <td>151</td>\n",
       "      <td>1</td>\n",
       "      <td>999</td>\n",
       "      <td>0</td>\n",
       "      <td>1</td>\n",
       "      <td>1.1</td>\n",
       "      <td>93.994</td>\n",
       "      <td>-36.4</td>\n",
       "      <td>4.857</td>\n",
       "      <td>5191.0</td>\n",
       "      <td>0</td>\n",
       "    </tr>\n",
       "    <tr>\n",
       "      <th>4</th>\n",
       "      <td>56</td>\n",
       "      <td>7</td>\n",
       "      <td>1</td>\n",
       "      <td>3</td>\n",
       "      <td>0</td>\n",
       "      <td>0</td>\n",
       "      <td>2</td>\n",
       "      <td>1</td>\n",
       "      <td>6</td>\n",
       "      <td>1</td>\n",
       "      <td>307</td>\n",
       "      <td>1</td>\n",
       "      <td>999</td>\n",
       "      <td>0</td>\n",
       "      <td>1</td>\n",
       "      <td>1.1</td>\n",
       "      <td>93.994</td>\n",
       "      <td>-36.4</td>\n",
       "      <td>4.857</td>\n",
       "      <td>5191.0</td>\n",
       "      <td>0</td>\n",
       "    </tr>\n",
       "  </tbody>\n",
       "</table>\n",
       "</div>"
      ],
      "text/plain": [
       "   age  job  marital  education  default  housing  loan  contact  month  \\\n",
       "0   56    3        1          0        0        0     0        1      6   \n",
       "1   57    7        1          3        1        0     0        1      6   \n",
       "2   37    7        1          3        0        2     0        1      6   \n",
       "3   40    0        1          1        0        0     0        1      6   \n",
       "4   56    7        1          3        0        0     2        1      6   \n",
       "\n",
       "   day_of_week  duration  campaign  pdays  previous  poutcome  emp.var.rate  \\\n",
       "0            1       261         1    999         0         1           1.1   \n",
       "1            1       149         1    999         0         1           1.1   \n",
       "2            1       226         1    999         0         1           1.1   \n",
       "3            1       151         1    999         0         1           1.1   \n",
       "4            1       307         1    999         0         1           1.1   \n",
       "\n",
       "   cons.price.idx  cons.conf.idx  euribor3m  nr.employed  y  \n",
       "0          93.994          -36.4      4.857       5191.0  0  \n",
       "1          93.994          -36.4      4.857       5191.0  0  \n",
       "2          93.994          -36.4      4.857       5191.0  0  \n",
       "3          93.994          -36.4      4.857       5191.0  0  \n",
       "4          93.994          -36.4      4.857       5191.0  0  "
      ]
     },
     "execution_count": 21,
     "metadata": {},
     "output_type": "execute_result"
    }
   ],
   "source": [
    "df.head()"
   ]
  },
  {
   "cell_type": "markdown",
   "id": "39178d3c",
   "metadata": {},
   "source": [
    "<u>Splitting of X and Y variables</u>"
   ]
  },
  {
   "cell_type": "code",
   "execution_count": 22,
   "id": "1d541a0f",
   "metadata": {},
   "outputs": [],
   "source": [
    "X = df.iloc[:,0:-1]\n",
    "Y = df.iloc[:,-1]"
   ]
  },
  {
   "cell_type": "code",
   "execution_count": 23,
   "id": "bbfdb415",
   "metadata": {},
   "outputs": [
    {
     "data": {
      "text/plain": [
       "(41176, 20)"
      ]
     },
     "execution_count": 23,
     "metadata": {},
     "output_type": "execute_result"
    }
   ],
   "source": [
    "X.shape"
   ]
  },
  {
   "cell_type": "code",
   "execution_count": 24,
   "id": "f2010d14",
   "metadata": {},
   "outputs": [
    {
     "data": {
      "text/html": [
       "<div>\n",
       "<style scoped>\n",
       "    .dataframe tbody tr th:only-of-type {\n",
       "        vertical-align: middle;\n",
       "    }\n",
       "\n",
       "    .dataframe tbody tr th {\n",
       "        vertical-align: top;\n",
       "    }\n",
       "\n",
       "    .dataframe thead th {\n",
       "        text-align: right;\n",
       "    }\n",
       "</style>\n",
       "<table border=\"1\" class=\"dataframe\">\n",
       "  <thead>\n",
       "    <tr style=\"text-align: right;\">\n",
       "      <th></th>\n",
       "      <th>age</th>\n",
       "      <th>job</th>\n",
       "      <th>marital</th>\n",
       "      <th>education</th>\n",
       "      <th>default</th>\n",
       "      <th>housing</th>\n",
       "      <th>loan</th>\n",
       "      <th>contact</th>\n",
       "      <th>month</th>\n",
       "      <th>day_of_week</th>\n",
       "      <th>duration</th>\n",
       "      <th>campaign</th>\n",
       "      <th>pdays</th>\n",
       "      <th>previous</th>\n",
       "      <th>poutcome</th>\n",
       "      <th>emp.var.rate</th>\n",
       "      <th>cons.price.idx</th>\n",
       "      <th>cons.conf.idx</th>\n",
       "      <th>euribor3m</th>\n",
       "      <th>nr.employed</th>\n",
       "    </tr>\n",
       "  </thead>\n",
       "  <tbody>\n",
       "    <tr>\n",
       "      <th>0</th>\n",
       "      <td>56</td>\n",
       "      <td>3</td>\n",
       "      <td>1</td>\n",
       "      <td>0</td>\n",
       "      <td>0</td>\n",
       "      <td>0</td>\n",
       "      <td>0</td>\n",
       "      <td>1</td>\n",
       "      <td>6</td>\n",
       "      <td>1</td>\n",
       "      <td>261</td>\n",
       "      <td>1</td>\n",
       "      <td>999</td>\n",
       "      <td>0</td>\n",
       "      <td>1</td>\n",
       "      <td>1.1</td>\n",
       "      <td>93.994</td>\n",
       "      <td>-36.4</td>\n",
       "      <td>4.857</td>\n",
       "      <td>5191.0</td>\n",
       "    </tr>\n",
       "    <tr>\n",
       "      <th>1</th>\n",
       "      <td>57</td>\n",
       "      <td>7</td>\n",
       "      <td>1</td>\n",
       "      <td>3</td>\n",
       "      <td>1</td>\n",
       "      <td>0</td>\n",
       "      <td>0</td>\n",
       "      <td>1</td>\n",
       "      <td>6</td>\n",
       "      <td>1</td>\n",
       "      <td>149</td>\n",
       "      <td>1</td>\n",
       "      <td>999</td>\n",
       "      <td>0</td>\n",
       "      <td>1</td>\n",
       "      <td>1.1</td>\n",
       "      <td>93.994</td>\n",
       "      <td>-36.4</td>\n",
       "      <td>4.857</td>\n",
       "      <td>5191.0</td>\n",
       "    </tr>\n",
       "    <tr>\n",
       "      <th>2</th>\n",
       "      <td>37</td>\n",
       "      <td>7</td>\n",
       "      <td>1</td>\n",
       "      <td>3</td>\n",
       "      <td>0</td>\n",
       "      <td>2</td>\n",
       "      <td>0</td>\n",
       "      <td>1</td>\n",
       "      <td>6</td>\n",
       "      <td>1</td>\n",
       "      <td>226</td>\n",
       "      <td>1</td>\n",
       "      <td>999</td>\n",
       "      <td>0</td>\n",
       "      <td>1</td>\n",
       "      <td>1.1</td>\n",
       "      <td>93.994</td>\n",
       "      <td>-36.4</td>\n",
       "      <td>4.857</td>\n",
       "      <td>5191.0</td>\n",
       "    </tr>\n",
       "    <tr>\n",
       "      <th>3</th>\n",
       "      <td>40</td>\n",
       "      <td>0</td>\n",
       "      <td>1</td>\n",
       "      <td>1</td>\n",
       "      <td>0</td>\n",
       "      <td>0</td>\n",
       "      <td>0</td>\n",
       "      <td>1</td>\n",
       "      <td>6</td>\n",
       "      <td>1</td>\n",
       "      <td>151</td>\n",
       "      <td>1</td>\n",
       "      <td>999</td>\n",
       "      <td>0</td>\n",
       "      <td>1</td>\n",
       "      <td>1.1</td>\n",
       "      <td>93.994</td>\n",
       "      <td>-36.4</td>\n",
       "      <td>4.857</td>\n",
       "      <td>5191.0</td>\n",
       "    </tr>\n",
       "    <tr>\n",
       "      <th>4</th>\n",
       "      <td>56</td>\n",
       "      <td>7</td>\n",
       "      <td>1</td>\n",
       "      <td>3</td>\n",
       "      <td>0</td>\n",
       "      <td>0</td>\n",
       "      <td>2</td>\n",
       "      <td>1</td>\n",
       "      <td>6</td>\n",
       "      <td>1</td>\n",
       "      <td>307</td>\n",
       "      <td>1</td>\n",
       "      <td>999</td>\n",
       "      <td>0</td>\n",
       "      <td>1</td>\n",
       "      <td>1.1</td>\n",
       "      <td>93.994</td>\n",
       "      <td>-36.4</td>\n",
       "      <td>4.857</td>\n",
       "      <td>5191.0</td>\n",
       "    </tr>\n",
       "  </tbody>\n",
       "</table>\n",
       "</div>"
      ],
      "text/plain": [
       "   age  job  marital  education  default  housing  loan  contact  month  \\\n",
       "0   56    3        1          0        0        0     0        1      6   \n",
       "1   57    7        1          3        1        0     0        1      6   \n",
       "2   37    7        1          3        0        2     0        1      6   \n",
       "3   40    0        1          1        0        0     0        1      6   \n",
       "4   56    7        1          3        0        0     2        1      6   \n",
       "\n",
       "   day_of_week  duration  campaign  pdays  previous  poutcome  emp.var.rate  \\\n",
       "0            1       261         1    999         0         1           1.1   \n",
       "1            1       149         1    999         0         1           1.1   \n",
       "2            1       226         1    999         0         1           1.1   \n",
       "3            1       151         1    999         0         1           1.1   \n",
       "4            1       307         1    999         0         1           1.1   \n",
       "\n",
       "   cons.price.idx  cons.conf.idx  euribor3m  nr.employed  \n",
       "0          93.994          -36.4      4.857       5191.0  \n",
       "1          93.994          -36.4      4.857       5191.0  \n",
       "2          93.994          -36.4      4.857       5191.0  \n",
       "3          93.994          -36.4      4.857       5191.0  \n",
       "4          93.994          -36.4      4.857       5191.0  "
      ]
     },
     "execution_count": 24,
     "metadata": {},
     "output_type": "execute_result"
    }
   ],
   "source": [
    "X.head()"
   ]
  },
  {
   "cell_type": "code",
   "execution_count": 25,
   "id": "a0afb522",
   "metadata": {},
   "outputs": [
    {
     "data": {
      "text/plain": [
       "(41176,)"
      ]
     },
     "execution_count": 25,
     "metadata": {},
     "output_type": "execute_result"
    }
   ],
   "source": [
    "Y.shape"
   ]
  },
  {
   "cell_type": "code",
   "execution_count": 26,
   "id": "223ea652",
   "metadata": {},
   "outputs": [
    {
     "data": {
      "text/plain": [
       "0    0\n",
       "1    0\n",
       "2    0\n",
       "3    0\n",
       "4    0\n",
       "Name: y, dtype: int32"
      ]
     },
     "execution_count": 26,
     "metadata": {},
     "output_type": "execute_result"
    }
   ],
   "source": [
    "Y.head()"
   ]
  },
  {
   "cell_type": "code",
   "execution_count": 27,
   "id": "5c831543",
   "metadata": {},
   "outputs": [
    {
     "data": {
      "text/plain": [
       "0    36537\n",
       "1     4639\n",
       "Name: y, dtype: int64"
      ]
     },
     "execution_count": 27,
     "metadata": {},
     "output_type": "execute_result"
    }
   ],
   "source": [
    "Y.value_counts()"
   ]
  },
  {
   "cell_type": "markdown",
   "id": "afdbbfdc",
   "metadata": {},
   "source": [
    "<u>Insights</u>\n",
    "\n",
    "    We see that there are very less observations of Yes class which may result into a low accuracy model. We shall first run all the models and re-run the models by upscaling the yes class to see if the error decreases\n",
    "    \n",
    "    Creating a copy of X and Y to be used later "
   ]
  },
  {
   "cell_type": "code",
   "execution_count": 28,
   "id": "412137ff",
   "metadata": {},
   "outputs": [],
   "source": [
    "X_new = df.iloc[:,0:-1]\n",
    "Y_new = df.iloc[:,-1]"
   ]
  },
  {
   "cell_type": "markdown",
   "id": "bbd4537f",
   "metadata": {},
   "source": [
    "Thus, this input should only be included for benchmark purposes and should be discarded if the intention is to have a realistic predictive model."
   ]
  },
  {
   "cell_type": "code",
   "execution_count": 29,
   "id": "b9a1ac12",
   "metadata": {},
   "outputs": [],
   "source": [
    "X.drop(['duration'], inplace = True, axis = 1)"
   ]
  },
  {
   "cell_type": "markdown",
   "id": "341b4bcd",
   "metadata": {},
   "source": [
    "<u>Scaling the Data using Standard Scaler</u>"
   ]
  },
  {
   "cell_type": "markdown",
   "id": "def03160",
   "metadata": {},
   "source": [
    "We are using standard scaler as we have a variety of range and the minMax scaler will bring the data to the range of -1 to 1"
   ]
  },
  {
   "cell_type": "code",
   "execution_count": 30,
   "id": "30b47b3b",
   "metadata": {},
   "outputs": [],
   "source": [
    "# Scaling the data\n",
    "from sklearn.preprocessing import StandardScaler"
   ]
  },
  {
   "cell_type": "markdown",
   "id": "a848efcb",
   "metadata": {},
   "source": [
    "Creating a generic function as we shall call the scaler object again after oversampling and running"
   ]
  },
  {
   "cell_type": "code",
   "execution_count": 31,
   "id": "90bc23d1",
   "metadata": {},
   "outputs": [],
   "source": [
    "def scale_X(X):\n",
    "    scaler= StandardScaler()\n",
    "    scaler.fit(X)\n",
    "    X = scaler.transform(X)\n",
    "    return X"
   ]
  },
  {
   "cell_type": "code",
   "execution_count": 32,
   "id": "a494ff3f",
   "metadata": {},
   "outputs": [],
   "source": [
    "X = scale_X(X)"
   ]
  },
  {
   "cell_type": "markdown",
   "id": "5bbbd27d",
   "metadata": {},
   "source": [
    "We see that the data is scaled and ready for model building process"
   ]
  },
  {
   "cell_type": "markdown",
   "id": "e91d9af8",
   "metadata": {},
   "source": [
    "As we have a classification problem we shall define a generic code block to evaluate model performance"
   ]
  },
  {
   "cell_type": "code",
   "execution_count": 34,
   "id": "e2848aa6",
   "metadata": {},
   "outputs": [],
   "source": [
    "from sklearn.metrics import confusion_matrix, accuracy_score, classification_report,roc_curve,auc\n",
    "def evaluation(Y_test,Y_pred, plot_prediction,plot_ROC):\n",
    "    \n",
    "\n",
    "    cfm=confusion_matrix(Y_test,Y_pred)\n",
    "    print(\"Confusion Metrics :\\n\",cfm)\n",
    "\n",
    "    print(\"\\n\")\n",
    "    print(pd.crosstab(Y_test, Y_pred, rownames=['True'], colnames=['Predicted'], margins=True))\n",
    "    \n",
    "    print(\"\\nClassification report: \\n\")\n",
    "\n",
    "    print(classification_report(Y_test,Y_pred))\n",
    "\n",
    "    acc=accuracy_score(Y_test, Y_pred) #\n",
    "    print(\"\\nAccuracy of the model: \",acc)\n",
    "    print('\\n----- YTest v Y pred (30 values)---------')\n",
    "    print('YTest :',Y_test.values[0:31])\n",
    "    print('YPred :',Y_pred[0:31])\n",
    "    fpr, tpr, z = roc_curve(Y_test, Y_pred)\n",
    "    area_under_curve= auc(fpr,tpr)\n",
    "    print(\"\\nAUC : \",area_under_curve)\n",
    "    \n",
    "\n",
    "    if plot_ROC : \n",
    "        plt.title('Receiver Operating Characteristic')\n",
    "        plt.plot(fpr,tpr, 'b', label = auc)\n",
    "        plt.legend(loc = 'lower right')\n",
    "        plt.plot([0, 1], [0, 1],'r--')\n",
    "        plt.xlim([0, 1])\n",
    "        plt.ylim([0, 1])\n",
    "        plt.xlabel('False Positive Rate')\n",
    "        plt.ylabel('True Positive Rate')\n",
    "        plt.show()\n",
    "    \n",
    "    if plot_prediction :\n",
    "        plt.figure(figsize=(25,6))\n",
    "        plt.title('Y_test v Y_pred for first 40 values')\n",
    "        plt.plot(Y_test.values[0:41], label='Actual', linestyle='--', marker='o', color='g')\n",
    "        plt.plot(Y_pred[0:41], label='Predicted', linestyle='--', marker='o', color='r')\n",
    "        plt.legend(prop={'size': 20})\n",
    "        plt.show()"
   ]
  },
  {
   "cell_type": "markdown",
   "id": "e408c35d",
   "metadata": {},
   "source": [
    "<u>Splitting the data into train and test </u>"
   ]
  },
  {
   "cell_type": "markdown",
   "id": "40ee28b0",
   "metadata": {},
   "source": [
    "Creating a generic function"
   ]
  },
  {
   "cell_type": "code",
   "execution_count": 35,
   "id": "c72bf660",
   "metadata": {},
   "outputs": [],
   "source": [
    "# Splitting the data in 70:30\n",
    "from sklearn.model_selection import train_test_split\n",
    "\n",
    "def split_train_test(X,Y):\n",
    "    #Split the data into test and train using stratified :: equal proportion of target class \n",
    "    X_train, X_test, Y_train, Y_test = train_test_split(X, Y, test_size=0.3,random_state=10, stratify = Y)\n",
    "    print('shape of X_train :: ',X_train.shape)\n",
    "    print('shape of Y_train :: ',X_train.shape)\n",
    "    print('shape of X_test :: ',X_train.shape)\n",
    "    print('shape of Y_test :: ',X_train.shape)\n",
    "    return X_train, X_test, Y_train, Y_test"
   ]
  },
  {
   "cell_type": "code",
   "execution_count": 36,
   "id": "7b15fb8c",
   "metadata": {},
   "outputs": [
    {
     "name": "stdout",
     "output_type": "stream",
     "text": [
      "shape of X_train ::  (28823, 19)\n",
      "shape of Y_train ::  (28823, 19)\n",
      "shape of X_test ::  (28823, 19)\n",
      "shape of Y_test ::  (28823, 19)\n"
     ]
    }
   ],
   "source": [
    "X_train, X_test, Y_train, Y_test = split_train_test(X,Y)"
   ]
  },
  {
   "cell_type": "code",
   "execution_count": 37,
   "id": "8abb71d5",
   "metadata": {},
   "outputs": [],
   "source": [
    "#Models\n",
    "from sklearn.linear_model import LogisticRegression\n",
    "from sklearn.neighbors import KNeighborsClassifier\n",
    "from sklearn.tree import DecisionTreeClassifier\n",
    "from sklearn.ensemble import RandomForestClassifier\n",
    "from sklearn import svm\n",
    "from sklearn.ensemble import AdaBoostClassifier\n",
    "from sklearn.model_selection import GridSearchCV"
   ]
  },
  {
   "cell_type": "markdown",
   "id": "d046c2dd",
   "metadata": {},
   "source": [
    "<u> Performing Random Forest and eliminating not so significant variables<u/>"
   ]
  },
  {
   "cell_type": "markdown",
   "id": "63183f18",
   "metadata": {},
   "source": [
    "randomForest_model1 = RandomForestClassifier(random_state=10)\n",
    "\n",
    "parameter_space = {\n",
    "    'n_estimators': range(50,200,10),\n",
    "    'criterion': ['gini', 'entropy'],\n",
    "    'max_depth' : range(3,10)\n",
    "}\n",
    "clf = GridSearchCV(randomForest_model1, parameter_space, n_jobs=-1, cv=5)\n",
    "clf.fit(X_train,Y_train)"
   ]
  },
  {
   "cell_type": "markdown",
   "id": "02ae0477",
   "metadata": {},
   "source": [
    "print('Best parameters found:\\n', clf.best_params_)"
   ]
  },
  {
   "cell_type": "markdown",
   "id": "50ad1d42",
   "metadata": {},
   "source": [
    "    Best parameters found:\n",
    "     {'criterion': 'gini', 'max_depth': 9, 'n_estimators': 180}"
   ]
  },
  {
   "cell_type": "markdown",
   "id": "4bb7214b",
   "metadata": {},
   "source": [
    "We shall refrain from running this code again as it takes up time"
   ]
  },
  {
   "cell_type": "markdown",
   "id": "c98e2466",
   "metadata": {},
   "source": [
    "Implementing Random Forest with this parameter obtain via gridSearch CV"
   ]
  },
  {
   "cell_type": "code",
   "execution_count": 38,
   "id": "48aa189c",
   "metadata": {},
   "outputs": [
    {
     "name": "stdout",
     "output_type": "stream",
     "text": [
      "Confusion Metrics :\n",
      " [[10788   173]\n",
      " [ 1055   337]]\n",
      "\n",
      "\n",
      "Predicted      0    1    All\n",
      "True                        \n",
      "0          10788  173  10961\n",
      "1           1055  337   1392\n",
      "All        11843  510  12353\n",
      "\n",
      "Classification report: \n",
      "\n",
      "              precision    recall  f1-score   support\n",
      "\n",
      "           0       0.91      0.98      0.95     10961\n",
      "           1       0.66      0.24      0.35      1392\n",
      "\n",
      "    accuracy                           0.90     12353\n",
      "   macro avg       0.79      0.61      0.65     12353\n",
      "weighted avg       0.88      0.90      0.88     12353\n",
      "\n",
      "\n",
      "Accuracy of the model:  0.9005909495669068\n",
      "\n",
      "----- YTest v Y pred (30 values)---------\n",
      "YTest : [0 0 0 0 0 0 0 0 0 0 0 0 0 0 0 0 1 0 0 0 0 0 0 0 0 0 0 0 0 0 0]\n",
      "YPred : [0 0 0 0 0 0 0 0 0 0 0 0 0 0 0 0 0 1 0 0 0 0 0 0 0 0 0 0 0 0 0]\n",
      "\n",
      "AUC :  0.6131572348462206\n"
     ]
    },
    {
     "data": {
      "image/png": "[encoded data removed]",
      "text/plain": [
       "<Figure size 432x288 with 1 Axes>"
      ]
     },
     "metadata": {},
     "output_type": "display_data"
    }
   ],
   "source": [
    "random=RandomForestClassifier(n_estimators=180, random_state=10, max_depth = 9 )\n",
    "#fit the model on the data and predict the values\n",
    "random.fit(X_train,Y_train)\n",
    "Y_pred = random.predict(X_test)\n",
    "evaluation(Y_test,Y_pred, False,True)"
   ]
  },
  {
   "cell_type": "markdown",
   "id": "da7b58e1",
   "metadata": {},
   "source": [
    "As we see from the above evaluation matrix ::\n",
    "        \n",
    "        - out of 1392 values for class yes only 337 values (True positive)  are predicted correctly.\n",
    "        \n",
    "        - for class No : the number of wrongly predicted values is 173\n",
    "        \n",
    "        - In this case, type 2 error (1055 obs) > type 1 error (173)\n",
    "        \n",
    "        - Our main goal should be the reduction of type 2 error\n",
    "        \n",
    "        - Even though the model accuracy is high, we can see the recall value of class 1 is badly affected, hence we say in  clasification models the accuracy score is ambiguous\n",
    "        \n",
    "        - the reason for such low value of recall is due to imbalance in data\n",
    "        \n",
    "        - our ideal model should have high recall value"
   ]
  },
  {
   "cell_type": "markdown",
   "id": "4754a988",
   "metadata": {},
   "source": [
    "Let us now check the important features list"
   ]
  },
  {
   "cell_type": "code",
   "execution_count": 39,
   "id": "4fc26c18",
   "metadata": {},
   "outputs": [
    {
     "name": "stdout",
     "output_type": "stream",
     "text": [
      "euribor3m \t\t:: 0.18321806304003813\n",
      "cons.conf.idx \t\t:: 0.18259061508130345\n",
      "campaign \t\t:: 0.11223792566477389\n",
      "previous \t\t:: 0.0764401004146323\n",
      "cons.price.idx \t\t:: 0.06688702290154815\n",
      "poutcome \t\t:: 0.059724036072272696\n",
      "age \t\t:: 0.055670487195922075\n",
      "emp.var.rate \t\t:: 0.05422069962843003\n",
      "month \t\t:: 0.03656013325117219\n",
      "day_of_week \t\t:: 0.026867319023253226\n",
      "duration \t\t:: 0.024819837209606992\n",
      "job \t\t:: 0.0242385566487549\n",
      "education \t\t:: 0.022633017976316925\n",
      "pdays \t\t:: 0.020073162334374957\n",
      "contact \t\t:: 0.020059170235543444\n",
      "marital \t\t:: 0.01202519052003118\n",
      "housing \t\t:: 0.00824134102028807\n",
      "loan \t\t:: 0.007595777357326024\n",
      "default \t\t:: 0.0058975444244114324\n"
     ]
    }
   ],
   "source": [
    "d = dict(zip(df.columns,random.feature_importances_))\n",
    "for w in sorted(d, key=d.get, reverse=True):\n",
    "    print(w ,'\\t\\t::', d[w])"
   ]
  },
  {
   "cell_type": "markdown",
   "id": "f2c67214",
   "metadata": {},
   "source": [
    "    we see the top features in descending ordered list\n",
    "    out of 19 features let us select the top 15 features for predicting via other models"
   ]
  },
  {
   "cell_type": "markdown",
   "id": "04fd8db2",
   "metadata": {},
   "source": [
    "<u>Selecting the top 15 features and droping the rest</u>"
   ]
  },
  {
   "cell_type": "code",
   "execution_count": 40,
   "id": "1b67c175",
   "metadata": {},
   "outputs": [
    {
     "data": {
      "text/html": [
       "<div>\n",
       "<style scoped>\n",
       "    .dataframe tbody tr th:only-of-type {\n",
       "        vertical-align: middle;\n",
       "    }\n",
       "\n",
       "    .dataframe tbody tr th {\n",
       "        vertical-align: top;\n",
       "    }\n",
       "\n",
       "    .dataframe thead th {\n",
       "        text-align: right;\n",
       "    }\n",
       "</style>\n",
       "<table border=\"1\" class=\"dataframe\">\n",
       "  <thead>\n",
       "    <tr style=\"text-align: right;\">\n",
       "      <th></th>\n",
       "      <th>age</th>\n",
       "      <th>job</th>\n",
       "      <th>marital</th>\n",
       "      <th>education</th>\n",
       "      <th>default</th>\n",
       "      <th>housing</th>\n",
       "      <th>loan</th>\n",
       "      <th>contact</th>\n",
       "      <th>month</th>\n",
       "      <th>day_of_week</th>\n",
       "      <th>duration</th>\n",
       "      <th>campaign</th>\n",
       "      <th>pdays</th>\n",
       "      <th>previous</th>\n",
       "      <th>poutcome</th>\n",
       "      <th>emp.var.rate</th>\n",
       "      <th>cons.price.idx</th>\n",
       "      <th>cons.conf.idx</th>\n",
       "      <th>euribor3m</th>\n",
       "      <th>nr.employed</th>\n",
       "    </tr>\n",
       "  </thead>\n",
       "  <tbody>\n",
       "    <tr>\n",
       "      <th>0</th>\n",
       "      <td>56</td>\n",
       "      <td>3</td>\n",
       "      <td>1</td>\n",
       "      <td>0</td>\n",
       "      <td>0</td>\n",
       "      <td>0</td>\n",
       "      <td>0</td>\n",
       "      <td>1</td>\n",
       "      <td>6</td>\n",
       "      <td>1</td>\n",
       "      <td>261</td>\n",
       "      <td>1</td>\n",
       "      <td>999</td>\n",
       "      <td>0</td>\n",
       "      <td>1</td>\n",
       "      <td>1.1</td>\n",
       "      <td>93.994</td>\n",
       "      <td>-36.4</td>\n",
       "      <td>4.857</td>\n",
       "      <td>5191.0</td>\n",
       "    </tr>\n",
       "    <tr>\n",
       "      <th>1</th>\n",
       "      <td>57</td>\n",
       "      <td>7</td>\n",
       "      <td>1</td>\n",
       "      <td>3</td>\n",
       "      <td>1</td>\n",
       "      <td>0</td>\n",
       "      <td>0</td>\n",
       "      <td>1</td>\n",
       "      <td>6</td>\n",
       "      <td>1</td>\n",
       "      <td>149</td>\n",
       "      <td>1</td>\n",
       "      <td>999</td>\n",
       "      <td>0</td>\n",
       "      <td>1</td>\n",
       "      <td>1.1</td>\n",
       "      <td>93.994</td>\n",
       "      <td>-36.4</td>\n",
       "      <td>4.857</td>\n",
       "      <td>5191.0</td>\n",
       "    </tr>\n",
       "    <tr>\n",
       "      <th>2</th>\n",
       "      <td>37</td>\n",
       "      <td>7</td>\n",
       "      <td>1</td>\n",
       "      <td>3</td>\n",
       "      <td>0</td>\n",
       "      <td>2</td>\n",
       "      <td>0</td>\n",
       "      <td>1</td>\n",
       "      <td>6</td>\n",
       "      <td>1</td>\n",
       "      <td>226</td>\n",
       "      <td>1</td>\n",
       "      <td>999</td>\n",
       "      <td>0</td>\n",
       "      <td>1</td>\n",
       "      <td>1.1</td>\n",
       "      <td>93.994</td>\n",
       "      <td>-36.4</td>\n",
       "      <td>4.857</td>\n",
       "      <td>5191.0</td>\n",
       "    </tr>\n",
       "    <tr>\n",
       "      <th>3</th>\n",
       "      <td>40</td>\n",
       "      <td>0</td>\n",
       "      <td>1</td>\n",
       "      <td>1</td>\n",
       "      <td>0</td>\n",
       "      <td>0</td>\n",
       "      <td>0</td>\n",
       "      <td>1</td>\n",
       "      <td>6</td>\n",
       "      <td>1</td>\n",
       "      <td>151</td>\n",
       "      <td>1</td>\n",
       "      <td>999</td>\n",
       "      <td>0</td>\n",
       "      <td>1</td>\n",
       "      <td>1.1</td>\n",
       "      <td>93.994</td>\n",
       "      <td>-36.4</td>\n",
       "      <td>4.857</td>\n",
       "      <td>5191.0</td>\n",
       "    </tr>\n",
       "    <tr>\n",
       "      <th>4</th>\n",
       "      <td>56</td>\n",
       "      <td>7</td>\n",
       "      <td>1</td>\n",
       "      <td>3</td>\n",
       "      <td>0</td>\n",
       "      <td>0</td>\n",
       "      <td>2</td>\n",
       "      <td>1</td>\n",
       "      <td>6</td>\n",
       "      <td>1</td>\n",
       "      <td>307</td>\n",
       "      <td>1</td>\n",
       "      <td>999</td>\n",
       "      <td>0</td>\n",
       "      <td>1</td>\n",
       "      <td>1.1</td>\n",
       "      <td>93.994</td>\n",
       "      <td>-36.4</td>\n",
       "      <td>4.857</td>\n",
       "      <td>5191.0</td>\n",
       "    </tr>\n",
       "  </tbody>\n",
       "</table>\n",
       "</div>"
      ],
      "text/plain": [
       "   age  job  marital  education  default  housing  loan  contact  month  \\\n",
       "0   56    3        1          0        0        0     0        1      6   \n",
       "1   57    7        1          3        1        0     0        1      6   \n",
       "2   37    7        1          3        0        2     0        1      6   \n",
       "3   40    0        1          1        0        0     0        1      6   \n",
       "4   56    7        1          3        0        0     2        1      6   \n",
       "\n",
       "   day_of_week  duration  campaign  pdays  previous  poutcome  emp.var.rate  \\\n",
       "0            1       261         1    999         0         1           1.1   \n",
       "1            1       149         1    999         0         1           1.1   \n",
       "2            1       226         1    999         0         1           1.1   \n",
       "3            1       151         1    999         0         1           1.1   \n",
       "4            1       307         1    999         0         1           1.1   \n",
       "\n",
       "   cons.price.idx  cons.conf.idx  euribor3m  nr.employed  \n",
       "0          93.994          -36.4      4.857       5191.0  \n",
       "1          93.994          -36.4      4.857       5191.0  \n",
       "2          93.994          -36.4      4.857       5191.0  \n",
       "3          93.994          -36.4      4.857       5191.0  \n",
       "4          93.994          -36.4      4.857       5191.0  "
      ]
     },
     "execution_count": 40,
     "metadata": {},
     "output_type": "execute_result"
    }
   ],
   "source": [
    "X_new.head()"
   ]
  },
  {
   "cell_type": "code",
   "execution_count": 41,
   "id": "7e37eb5f",
   "metadata": {},
   "outputs": [
    {
     "data": {
      "text/plain": [
       "(41176, 20)"
      ]
     },
     "execution_count": 41,
     "metadata": {},
     "output_type": "execute_result"
    }
   ],
   "source": [
    "X_new.shape"
   ]
  },
  {
   "cell_type": "code",
   "execution_count": 42,
   "id": "af7f12be",
   "metadata": {},
   "outputs": [],
   "source": [
    "x = X_new.copy()\n",
    "y = Y_new.copy()"
   ]
  },
  {
   "cell_type": "code",
   "execution_count": 43,
   "id": "a0c1eb2d",
   "metadata": {},
   "outputs": [],
   "source": [
    "x.drop(['default','loan','housing','marital', 'duration'], axis = 1, inplace = True)"
   ]
  },
  {
   "cell_type": "code",
   "execution_count": 44,
   "id": "e510764e",
   "metadata": {},
   "outputs": [],
   "source": [
    "x = scale_X(x)"
   ]
  },
  {
   "cell_type": "code",
   "execution_count": 46,
   "id": "1ce1afc5",
   "metadata": {},
   "outputs": [
    {
     "name": "stdout",
     "output_type": "stream",
     "text": [
      "shape of X_train ::  (28823, 15)\n",
      "shape of Y_train ::  (28823, 15)\n",
      "shape of X_test ::  (28823, 15)\n",
      "shape of Y_test ::  (28823, 15)\n"
     ]
    }
   ],
   "source": [
    "X_train, X_test, Y_train, Y_test = split_train_test(x,y)"
   ]
  },
  {
   "cell_type": "markdown",
   "id": "80836c94",
   "metadata": {},
   "source": [
    "<u>Logistic Regression</u>"
   ]
  },
  {
   "cell_type": "markdown",
   "id": "564b79d9",
   "metadata": {},
   "source": [
    "Creating a function so we can call the fucntion with oversampling test"
   ]
  },
  {
   "cell_type": "code",
   "execution_count": 65,
   "id": "91cedc23",
   "metadata": {},
   "outputs": [],
   "source": [
    "def LR_model(X_train,Y_train,X_test,Y_test):\n",
    "    #create a model\n",
    "    LR = LogisticRegression()\n",
    "    #fitting training data to the model\n",
    "    LR.fit(X_train,Y_train)\n",
    "    Y_pred = LR.predict(X_test)\n",
    "    evaluation(Y_test,Y_pred, False,True)\n",
    "    return LR.predict_proba(X_test)"
   ]
  },
  {
   "cell_type": "code",
   "execution_count": 48,
   "id": "7396a472",
   "metadata": {},
   "outputs": [
    {
     "name": "stdout",
     "output_type": "stream",
     "text": [
      "Confusion Metrics :\n",
      " [[10816   145]\n",
      " [ 1103   289]]\n",
      "\n",
      "\n",
      "Predicted      0    1    All\n",
      "True                        \n",
      "0          10816  145  10961\n",
      "1           1103  289   1392\n",
      "All        11919  434  12353\n",
      "\n",
      "Classification report: \n",
      "\n",
      "              precision    recall  f1-score   support\n",
      "\n",
      "           0       0.91      0.99      0.95     10961\n",
      "           1       0.67      0.21      0.32      1392\n",
      "\n",
      "    accuracy                           0.90     12353\n",
      "   macro avg       0.79      0.60      0.63     12353\n",
      "weighted avg       0.88      0.90      0.87     12353\n",
      "\n",
      "\n",
      "Accuracy of the model:  0.898971909657573\n",
      "\n",
      "----- YTest v Y pred (30 values)---------\n",
      "YTest : [0 0 0 0 0 0 0 0 0 0 0 0 0 0 0 0 1 0 0 0 0 0 0 0 0 0 0 0 0 0 0]\n",
      "YPred : [0 0 0 0 0 0 0 0 0 0 0 0 0 0 0 0 0 1 0 0 0 0 0 0 0 0 0 0 0 0 0]\n",
      "\n",
      "AUC :  0.5971931112607185\n"
     ]
    },
    {
     "data": {
      "image/png": "[encoded data removed]",
      "text/plain": [
       "<Figure size 432x288 with 1 Axes>"
      ]
     },
     "metadata": {},
     "output_type": "display_data"
    }
   ],
   "source": [
    "LR_model(X_train,Y_train,X_test,Y_test)"
   ]
  },
  {
   "cell_type": "markdown",
   "id": "5944a480",
   "metadata": {},
   "source": [
    "<u>SVM - SVC</u>"
   ]
  },
  {
   "cell_type": "markdown",
   "id": "7ee3bdf9",
   "metadata": {},
   "source": [
    "We shall try with both kernel as rbf and kernel as sigmoid (2 class prediction)"
   ]
  },
  {
   "cell_type": "code",
   "execution_count": 49,
   "id": "da7eeaf0",
   "metadata": {},
   "outputs": [],
   "source": [
    "def SVM_SVC(X_train,Y_train,X_test,Y_test, kernel_parameter) : \n",
    "    svc_model = svm.SVC(kernel = kernel_parameter, C = 1, gamma = 0.1) #sigmoid\n",
    "    svc_model.fit(X_train, Y_train)\n",
    "    Y_pred = svc_model.predict(X_test)\n",
    "    evaluation(Y_test,Y_pred, False,True)"
   ]
  },
  {
   "cell_type": "code",
   "execution_count": 50,
   "id": "74ef380b",
   "metadata": {},
   "outputs": [
    {
     "name": "stdout",
     "output_type": "stream",
     "text": [
      "Confusion Metrics :\n",
      " [[10786   175]\n",
      " [ 1053   339]]\n",
      "\n",
      "\n",
      "Predicted      0    1    All\n",
      "True                        \n",
      "0          10786  175  10961\n",
      "1           1053  339   1392\n",
      "All        11839  514  12353\n",
      "\n",
      "Classification report: \n",
      "\n",
      "              precision    recall  f1-score   support\n",
      "\n",
      "           0       0.91      0.98      0.95     10961\n",
      "           1       0.66      0.24      0.36      1392\n",
      "\n",
      "    accuracy                           0.90     12353\n",
      "   macro avg       0.79      0.61      0.65     12353\n",
      "weighted avg       0.88      0.90      0.88     12353\n",
      "\n",
      "\n",
      "Accuracy of the model:  0.9005909495669068\n",
      "\n",
      "----- YTest v Y pred (30 values)---------\n",
      "YTest : [0 0 0 0 0 0 0 0 0 0 0 0 0 0 0 0 1 0 0 0 0 0 0 0 0 0 0 0 0 0 0]\n",
      "YPred : [0 0 0 0 0 0 0 0 0 0 0 0 0 0 0 0 0 0 0 0 0 0 0 0 0 0 0 0 0 0 0]\n",
      "\n",
      "AUC :  0.613784393099044\n"
     ]
    },
    {
     "data": {
      "image/png": "[encoded data removed]",
      "text/plain": [
       "<Figure size 432x288 with 1 Axes>"
      ]
     },
     "metadata": {},
     "output_type": "display_data"
    }
   ],
   "source": [
    "SVM_SVC(X_train,Y_train,X_test,Y_test, 'rbf')"
   ]
  },
  {
   "cell_type": "markdown",
   "id": "068fbaaf",
   "metadata": {},
   "source": [
    "    From above we see that 'rbf' is doing a better job the recall for both class has decreased"
   ]
  },
  {
   "cell_type": "markdown",
   "id": "5f1b4c7f",
   "metadata": {},
   "source": [
    "<u>AdaBoost</u>"
   ]
  },
  {
   "cell_type": "code",
   "execution_count": 52,
   "id": "64c37e0d",
   "metadata": {},
   "outputs": [],
   "source": [
    "def ADA_BOOST(X_train,Y_train,X_test,Y_test, estimators ):\n",
    "    model_AdaBoost=AdaBoostClassifier(base_estimator=DecisionTreeClassifier(random_state=10),\n",
    "                                      n_estimators=estimators,\n",
    "                                      random_state=10)\n",
    "    #fit the model on the data and predict the values\n",
    "    model_AdaBoost.fit(X_train,Y_train)\n",
    "    Y_pred=model_AdaBoost.predict(X_test)\n",
    "    evaluation(Y_test,Y_pred, False,True)"
   ]
  },
  {
   "cell_type": "code",
   "execution_count": 53,
   "id": "ac82e02a",
   "metadata": {},
   "outputs": [
    {
     "name": "stdout",
     "output_type": "stream",
     "text": [
      "Confusion Metrics :\n",
      " [[10340   621]\n",
      " [  935   457]]\n",
      "\n",
      "\n",
      "Predicted      0     1    All\n",
      "True                         \n",
      "0          10340   621  10961\n",
      "1            935   457   1392\n",
      "All        11275  1078  12353\n",
      "\n",
      "Classification report: \n",
      "\n",
      "              precision    recall  f1-score   support\n",
      "\n",
      "           0       0.92      0.94      0.93     10961\n",
      "           1       0.42      0.33      0.37      1392\n",
      "\n",
      "    accuracy                           0.87     12353\n",
      "   macro avg       0.67      0.64      0.65     12353\n",
      "weighted avg       0.86      0.87      0.87     12353\n",
      "\n",
      "\n",
      "Accuracy of the model:  0.874038695053833\n",
      "\n",
      "----- YTest v Y pred (30 values)---------\n",
      "YTest : [0 0 0 0 0 0 0 0 0 0 0 0 0 0 0 0 1 0 0 0 0 0 0 0 0 0 0 0 0 0 0]\n",
      "YPred : [1 0 0 0 0 0 0 0 0 0 1 0 0 0 0 1 0 0 0 0 0 0 0 0 0 0 0 0 0 0 0]\n",
      "\n",
      "AUC :  0.6358245915246008\n"
     ]
    },
    {
     "data": {
      "image/png": "[encoded data removed]",
      "text/plain": [
       "<Figure size 432x288 with 1 Axes>"
      ]
     },
     "metadata": {},
     "output_type": "display_data"
    }
   ],
   "source": [
    "ADA_BOOST(X_train,Y_train,X_test,Y_test, int(150))"
   ]
  },
  {
   "cell_type": "markdown",
   "id": "a07af85c",
   "metadata": {},
   "source": [
    "Till now we see that AdaBoost has a done a much better job than SVM and Random forest. The reason behind this is the prediction of class 1 has increased by 100 obs making the recall value to 33% and the prediction for class o has decreased from a recall of 98% to 94%"
   ]
  },
  {
   "cell_type": "markdown",
   "id": "15c43209",
   "metadata": {},
   "source": [
    "<u>KNN</u>"
   ]
  },
  {
   "cell_type": "code",
   "execution_count": 54,
   "id": "1e6c086e",
   "metadata": {},
   "outputs": [],
   "source": [
    "def KNN(X_train,Y_train,X_test,Y_test, neighbors, similarity_distance):\n",
    "    knn = KNeighborsClassifier(n_neighbors = neighbors, metric = similarity_distance)                                \n",
    "    knn.fit(X_train,Y_train)                               \n",
    "    Y_pred = knn.predict(X_test)\n",
    "    evaluation(Y_test,Y_pred, False, True)"
   ]
  },
  {
   "cell_type": "code",
   "execution_count": 55,
   "id": "457c2723",
   "metadata": {},
   "outputs": [
    {
     "name": "stdout",
     "output_type": "stream",
     "text": [
      "Confusion Metrics :\n",
      " [[10834   127]\n",
      " [ 1116   276]]\n",
      "\n",
      "\n",
      "Predicted      0    1    All\n",
      "True                        \n",
      "0          10834  127  10961\n",
      "1           1116  276   1392\n",
      "All        11950  403  12353\n",
      "\n",
      "Classification report: \n",
      "\n",
      "              precision    recall  f1-score   support\n",
      "\n",
      "           0       0.91      0.99      0.95     10961\n",
      "           1       0.68      0.20      0.31      1392\n",
      "\n",
      "    accuracy                           0.90     12353\n",
      "   macro avg       0.80      0.59      0.63     12353\n",
      "weighted avg       0.88      0.90      0.87     12353\n",
      "\n",
      "\n",
      "Accuracy of the model:  0.8993766696349065\n",
      "\n",
      "----- YTest v Y pred (30 values)---------\n",
      "YTest : [0 0 0 0 0 0 0 0 0 0 0 0 0 0 0 0 1 0 0 0 0 0 0 0 0 0 0 0 0 0 0]\n",
      "YPred : [0 0 0 0 0 0 0 0 0 0 0 0 0 0 0 0 0 1 0 0 0 0 0 0 0 0 0 0 0 0 0]\n",
      "\n",
      "AUC :  0.5933446639968037\n"
     ]
    },
    {
     "data": {
      "image/png": "[encoded data removed]",
      "text/plain": [
       "<Figure size 432x288 with 1 Axes>"
      ]
     },
     "metadata": {},
     "output_type": "display_data"
    }
   ],
   "source": [
    "KNN(X_train,Y_train,X_test,Y_test, int(np.sqrt(X_train.shape[0])), 'manhattan')"
   ]
  },
  {
   "cell_type": "markdown",
   "id": "bd39bad5",
   "metadata": {},
   "source": [
    "### Analysis"
   ]
  },
  {
   "cell_type": "markdown",
   "id": "f4df2d31",
   "metadata": {},
   "source": [
    "<table style=\"height: 194px; width: 847px;\">\n",
    "<tbody>\n",
    "<tr>\n",
    "<td style=\"width: 79px;\">Model&nbsp;</td>\n",
    "<td style=\"width: 108px;\">accuracy_score</td>\n",
    "<td style=\"width: 39px;\">\n",
    "<p>recall&nbsp;</p>\n",
    "<p>class 0</p>\n",
    "</td>\n",
    "<td style=\"width: 39px;\">\n",
    "<p>recall</p>\n",
    "<p>class 1</p>\n",
    "</td>\n",
    "<td style=\"width: 119.328px;\">auc</td>\n",
    "<td style=\"width: 87px;\">\n",
    "<p>Class 0</p>\n",
    "<p>(true negative)</p>\n",
    "</td>\n",
    "<td style=\"width: 98px;\">\n",
    "<p>class 0</p>\n",
    "<p>(false positive)</p>\n",
    "<p>type 1err</p>\n",
    "</td>\n",
    "<td style=\"width: 72px;\">\n",
    "<p>Class 0</p>\n",
    "<p>(true positive)</p>\n",
    "</td>\n",
    "<td style=\"width: 102px;\">\n",
    "<p>class 0&nbsp;</p>\n",
    "<p>(false negative)</p>\n",
    "<p>type2err</p>\n",
    "</td>\n",
    "</tr>\n",
    "<tr>\n",
    "<td style=\"width: 79px;\">&nbsp;Logistic</td>\n",
    "<td style=\"width: 108px;\">&nbsp;\n",
    "<pre>0.898971909657573</pre>\n",
    "</td>\n",
    "<td style=\"width: 39px;\">\n",
    "<pre>0.99</pre>\n",
    "</td>\n",
    "<td style=\"width: 39px;\">&nbsp;\n",
    "<pre>0.21</pre>\n",
    "</td>\n",
    "<td style=\"width: 119.328px;\">\n",
    "<pre>0.5971931112607185</pre>\n",
    "</td>\n",
    "<td style=\"width: 87px;\">\n",
    "<pre>10816   </pre>\n",
    "</td>\n",
    "<td style=\"width: 98px;\">\n",
    "<pre>145</pre>\n",
    "</td>\n",
    "<td style=\"width: 72px;\">\n",
    "<pre>289</pre>\n",
    "</td>\n",
    "<td style=\"width: 102px;\">&nbsp;\n",
    "<pre>1103   </pre>\n",
    "</td>\n",
    "</tr>\n",
    "<tr>\n",
    "<td style=\"width: 79px;\">Knn&nbsp;</td>\n",
    "<td style=\"width: 108px;\">&nbsp;\n",
    "<pre>0.8993766696349065</pre>\n",
    "</td>\n",
    "<td style=\"width: 39px;\">\n",
    "<pre>0.99</pre>\n",
    "</td>\n",
    "<td style=\"width: 39px;\">&nbsp;\n",
    "<pre>0.20</pre>\n",
    "</td>\n",
    "<td style=\"width: 119.328px;\">\n",
    "<pre>0.5933446639968037</pre>\n",
    "</td>\n",
    "<td style=\"width: 87px;\">\n",
    "<pre>10834   </pre>\n",
    "</td>\n",
    "<td style=\"width: 98px;\">\n",
    "<pre>127</pre>\n",
    "</td>\n",
    "<td style=\"width: 72px;\">\n",
    "<pre>276</pre>\n",
    "</td>\n",
    "<td style=\"width: 102px;\">&nbsp;\n",
    "<pre>1116   </pre>\n",
    "</td>\n",
    "</tr>\n",
    "<tr>\n",
    "<td style=\"width: 79px;\">Random forest&nbsp;</td>\n",
    "<td style=\"width: 108px;\">&nbsp;\n",
    "<pre>0.9003480935805067</pre>\n",
    "</td>\n",
    "<td style=\"width: 39px;\">\n",
    "<pre>0.98</pre>\n",
    "</td>\n",
    "<td style=\"width: 39px;\">&nbsp;\n",
    "<pre>0.24</pre>\n",
    "</td>\n",
    "<td style=\"width: 119.328px;\">\n",
    "<pre>0.6136475442713822</pre>\n",
    "</td>\n",
    "<td style=\"width: 87px;\">\n",
    "<pre>10783   </pre>\n",
    "</td>\n",
    "<td style=\"width: 98px;\">\n",
    "<pre>178</pre>\n",
    "</td>\n",
    "<td style=\"width: 72px;\">\n",
    "<pre>339</pre>\n",
    "</td>\n",
    "<td style=\"width: 102px;\">&nbsp;\n",
    "<pre>1053   </pre>\n",
    "</td>\n",
    "</tr>\n",
    "<tr>\n",
    "<td style=\"width: 79px;\">Adaboost&nbsp;</td>\n",
    "<td style=\"width: 108px;\">&nbsp;\n",
    "<pre>0.874038695053833</pre>\n",
    "</td>\n",
    "<td style=\"width: 39px;\">\n",
    "<pre>0.94</pre>\n",
    "</td>\n",
    "<td style=\"width: 39px;\">&nbsp;\n",
    "<pre>0.33</pre>\n",
    "</td>\n",
    "<td style=\"width: 119.328px;\">\n",
    "<pre>0.6358245915246008</pre>\n",
    "</td>\n",
    "<td style=\"width: 87px;\">\n",
    "<pre>10340   </pre>\n",
    "</td>\n",
    "<td style=\"width: 98px;\">\n",
    "<pre>621</pre>\n",
    "</td>\n",
    "<td style=\"width: 72px;\">\n",
    "<pre>457</pre>\n",
    "</td>\n",
    "<td style=\"width: 102px;\">&nbsp;\n",
    "<pre>935   </pre>\n",
    "</td>\n",
    "</tr>\n",
    "<tr>\n",
    "<td style=\"width: 79px;\">SVM&nbsp;</td>\n",
    "<td style=\"width: 108px;\">&nbsp;\n",
    "<pre>0.9005909495669068</pre>\n",
    "</td>\n",
    "<td style=\"width: 39px;\">\n",
    "<pre>0.98</pre>\n",
    "</td>\n",
    "<td style=\"width: 39px;\">&nbsp;\n",
    "<pre>0.24</pre>\n",
    "</td>\n",
    "<td style=\"width: 119.328px;\">\n",
    "<pre>0.613784393099044</pre>\n",
    "</td>\n",
    "<td style=\"width: 87px;\">\n",
    "<pre>10786   </pre>\n",
    "</td>\n",
    "<td style=\"width: 98px;\">\n",
    "<pre>175</pre>\n",
    "</td>\n",
    "<td style=\"width: 72px;\">\n",
    "<pre>339</pre>\n",
    "</td>\n",
    "<td style=\"width: 102px;\">&nbsp;\n",
    "<pre>1053   </pre>\n",
    "</td>\n",
    "</tr>\n",
    "</tbody>\n",
    "</table>\n",
    "<!-- DivTable.com -->"
   ]
  },
  {
   "cell_type": "markdown",
   "id": "492c468d",
   "metadata": {},
   "source": [
    "We see that logistic , Knn and Random forest have the AUC of 0.59,0.59 & 0.61 which means the model is doing a worst job and is randomly guessing\n",
    "\n",
    "Adaboost has the highest accuracy and recall for class 1 among all and is doing a poor job but better than other models followed by SVM"
   ]
  },
  {
   "cell_type": "markdown",
   "id": "6e69f10d",
   "metadata": {},
   "source": [
    "## Implementing SMOTE and trying adaboost"
   ]
  },
  {
   "cell_type": "code",
   "execution_count": 56,
   "id": "4eadc263",
   "metadata": {},
   "outputs": [],
   "source": [
    "from imblearn.over_sampling import SMOTE"
   ]
  },
  {
   "cell_type": "code",
   "execution_count": 57,
   "id": "3dd5ce6b",
   "metadata": {},
   "outputs": [],
   "source": [
    "sm = SMOTE(random_state = 2)\n",
    "X_train_res, Y_train_res = sm.fit_resample(X_train, Y_train)"
   ]
  },
  {
   "cell_type": "code",
   "execution_count": 58,
   "id": "557a590a",
   "metadata": {},
   "outputs": [
    {
     "data": {
      "text/plain": [
       "(51152, 15)"
      ]
     },
     "execution_count": 58,
     "metadata": {},
     "output_type": "execute_result"
    }
   ],
   "source": [
    "X_train_res.shape"
   ]
  },
  {
   "cell_type": "code",
   "execution_count": 59,
   "id": "e11ec58f",
   "metadata": {},
   "outputs": [
    {
     "name": "stdout",
     "output_type": "stream",
     "text": [
      "Before OverSampling, the shape of train_X: (28823, 15)\n",
      "Before OverSampling, the shape of train_y: (28823,) \n",
      "\n",
      "Before OverSampling, counts of label '1': 3247\n",
      "Before OverSampling, counts of label '0': 25576 \n",
      "\n"
     ]
    }
   ],
   "source": [
    "print('Before OverSampling, the shape of train_X: {}'.format(X_train.shape))\n",
    "print('Before OverSampling, the shape of train_y: {} \\n'.format(Y_train.shape))\n",
    "\n",
    "print(\"Before OverSampling, counts of label '1': {}\".format(sum(Y_train == 1)))\n",
    "print(\"Before OverSampling, counts of label '0': {} \\n\".format(sum(Y_train == 0)))"
   ]
  },
  {
   "cell_type": "code",
   "execution_count": 60,
   "id": "a60577f2",
   "metadata": {},
   "outputs": [
    {
     "name": "stdout",
     "output_type": "stream",
     "text": [
      "After OverSampling, the shape of train_X: (51152, 15)\n",
      "After OverSampling, the shape of train_y: (51152,) \n",
      "\n",
      "After OverSampling, counts of label '1': 25576\n",
      "After OverSampling, counts of label '0': 25576\n"
     ]
    }
   ],
   "source": [
    "print('After OverSampling, the shape of train_X: {}'.format(X_train_res.shape))\n",
    "print('After OverSampling, the shape of train_y: {} \\n'.format(Y_train_res.shape))\n",
    "  \n",
    "print(\"After OverSampling, counts of label '1': {}\".format(sum(Y_train_res == 1)))\n",
    "print(\"After OverSampling, counts of label '0': {}\".format(sum(Y_train_res == 0)))"
   ]
  },
  {
   "cell_type": "code",
   "execution_count": 61,
   "id": "bdeb980f",
   "metadata": {},
   "outputs": [
    {
     "name": "stdout",
     "output_type": "stream",
     "text": [
      "Confusion Metrics :\n",
      " [[10200   761]\n",
      " [  872   520]]\n",
      "\n",
      "\n",
      "Predicted      0     1    All\n",
      "True                         \n",
      "0          10200   761  10961\n",
      "1            872   520   1392\n",
      "All        11072  1281  12353\n",
      "\n",
      "Classification report: \n",
      "\n",
      "              precision    recall  f1-score   support\n",
      "\n",
      "           0       0.92      0.93      0.93     10961\n",
      "           1       0.41      0.37      0.39      1392\n",
      "\n",
      "    accuracy                           0.87     12353\n",
      "   macro avg       0.66      0.65      0.66     12353\n",
      "weighted avg       0.86      0.87      0.87     12353\n",
      "\n",
      "\n",
      "Accuracy of the model:  0.867805391402898\n",
      "\n",
      "----- YTest v Y pred (30 values)---------\n",
      "YTest : [0 0 0 0 0 0 0 0 0 0 0 0 0 0 0 0 1 0 0 0 0 0 0 0 0 0 0 0 0 0 0]\n",
      "YPred : [1 0 0 0 0 0 0 0 0 0 0 0 0 0 0 1 0 0 0 0 0 0 0 0 0 0 0 0 0 0 0]\n",
      "\n",
      "AUC :  0.6520676232452153\n"
     ]
    },
    {
     "data": {
      "image/png": "[encoded data removed]",
      "text/plain": [
       "<Figure size 432x288 with 1 Axes>"
      ]
     },
     "metadata": {},
     "output_type": "display_data"
    }
   ],
   "source": [
    "ADA_BOOST(X_train_res,Y_train_res,X_test,Y_test, int(100))"
   ]
  },
  {
   "cell_type": "markdown",
   "id": "1acfbfff",
   "metadata": {},
   "source": [
    "Adaboost model's auc has increased but the recall value is still in the same range "
   ]
  },
  {
   "cell_type": "markdown",
   "id": "6cf5bc02",
   "metadata": {},
   "source": [
    "#### SVM"
   ]
  },
  {
   "cell_type": "code",
   "execution_count": 79,
   "id": "1e44c903",
   "metadata": {},
   "outputs": [
    {
     "name": "stdout",
     "output_type": "stream",
     "text": [
      "Confusion Metrics :\n",
      " [[9584 1377]\n",
      " [ 553  839]]\n",
      "\n",
      "\n",
      "Predicted      0     1    All\n",
      "True                         \n",
      "0           9584  1377  10961\n",
      "1            553   839   1392\n",
      "All        10137  2216  12353\n",
      "\n",
      "Classification report: \n",
      "\n",
      "              precision    recall  f1-score   support\n",
      "\n",
      "           0       0.95      0.87      0.91     10961\n",
      "           1       0.38      0.60      0.47      1392\n",
      "\n",
      "    accuracy                           0.84     12353\n",
      "   macro avg       0.66      0.74      0.69     12353\n",
      "weighted avg       0.88      0.84      0.86     12353\n",
      "\n",
      "\n",
      "Accuracy of the model:  0.8437626487492916\n",
      "\n",
      "----- YTest v Y pred (30 values)---------\n",
      "YTest : [0 0 0 0 0 0 0 0 0 0 0 0 0 0 0 0 1 0 0 0 0 0 0 0 0 0 0 0 0 0 0]\n",
      "YPred : [0 0 0 0 0 0 0 0 0 0 0 0 0 0 0 0 0 0 0 0 0 0 0 0 0 0 0 1 0 0 0]\n",
      "\n",
      "AUC :  0.738551330632011\n"
     ]
    },
    {
     "data": {
      "image/png": "[encoded data removed]",
      "text/plain": [
       "<Figure size 432x288 with 1 Axes>"
      ]
     },
     "metadata": {},
     "output_type": "display_data"
    }
   ],
   "source": [
    "SVM_SVC(X_train_res,Y_train_res,X_test,Y_test, 'rbf')"
   ]
  },
  {
   "cell_type": "markdown",
   "id": "e77cde06",
   "metadata": {},
   "source": [
    "### Conclusion"
   ]
  },
  {
   "cell_type": "markdown",
   "id": "5ddcf167",
   "metadata": {},
   "source": [
    "The model SVM_SVC performs the best after oversampling the minority class having a recall of 0.6 and auc of  0.73855133063201, which is best for predicting the values for client"
   ]
  },
  {
   "cell_type": "code",
   "execution_count": null,
   "id": "865389f5",
   "metadata": {},
   "outputs": [],
   "source": []
  },
  {
   "cell_type": "code",
   "execution_count": null,
   "id": "bd3c3f45",
   "metadata": {},
   "outputs": [],
   "source": []
  }
 ],
 "metadata": {
  "kernelspec": {
   "display_name": "Python 3",
   "language": "python",
   "name": "python3"
  },
  "language_info": {
   "codemirror_mode": {
    "name": "ipython",
    "version": 3
   },
   "file_extension": ".py",
   "mimetype": "text/x-python",
   "name": "python",
   "nbconvert_exporter": "python",
   "pygments_lexer": "ipython3",
   "version": "3.8.8"
  }
 },
 "nbformat": 4,
 "nbformat_minor": 5
}
